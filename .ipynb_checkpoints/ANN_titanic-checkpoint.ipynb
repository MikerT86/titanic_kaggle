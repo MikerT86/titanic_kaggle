{
 "cells": [
  {
   "cell_type": "code",
   "execution_count": 77,
   "metadata": {
    "scrolled": true
   },
   "outputs": [
    {
     "name": "stdout",
     "output_type": "stream",
     "text": [
      "<class 'pandas.core.frame.DataFrame'>\n",
      "RangeIndex: 891 entries, 0 to 890\n",
      "Data columns (total 12 columns):\n",
      "PassengerId    891 non-null int64\n",
      "Survived       891 non-null int64\n",
      "Pclass         891 non-null int64\n",
      "Name           891 non-null object\n",
      "Sex            891 non-null object\n",
      "Age            714 non-null float64\n",
      "SibSp          891 non-null int64\n",
      "Parch          891 non-null int64\n",
      "Ticket         891 non-null object\n",
      "Fare           891 non-null float64\n",
      "Cabin          204 non-null object\n",
      "Embarked       889 non-null object\n",
      "dtypes: float64(2), int64(5), object(5)\n",
      "memory usage: 83.6+ KB\n"
     ]
    }
   ],
   "source": [
    "import numpy as np\n",
    "import pandas as pd\n",
    "%matplotlib inline \n",
    "\n",
    "df = pd.read_csv('train.csv')\n",
    "\n",
    "df.info()"
   ]
  },
  {
   "cell_type": "code",
   "execution_count": 78,
   "metadata": {},
   "outputs": [
    {
     "data": {
      "text/html": [
       "<div>\n",
       "<style scoped>\n",
       "    .dataframe tbody tr th:only-of-type {\n",
       "        vertical-align: middle;\n",
       "    }\n",
       "\n",
       "    .dataframe tbody tr th {\n",
       "        vertical-align: top;\n",
       "    }\n",
       "\n",
       "    .dataframe thead th {\n",
       "        text-align: right;\n",
       "    }\n",
       "</style>\n",
       "<table border=\"1\" class=\"dataframe\">\n",
       "  <thead>\n",
       "    <tr style=\"text-align: right;\">\n",
       "      <th></th>\n",
       "      <th>PassengerId</th>\n",
       "      <th>Survived</th>\n",
       "      <th>Pclass</th>\n",
       "      <th>Name</th>\n",
       "      <th>Sex</th>\n",
       "      <th>Age</th>\n",
       "      <th>SibSp</th>\n",
       "      <th>Parch</th>\n",
       "      <th>Ticket</th>\n",
       "      <th>Fare</th>\n",
       "      <th>Cabin</th>\n",
       "      <th>Embarked</th>\n",
       "    </tr>\n",
       "  </thead>\n",
       "  <tbody>\n",
       "    <tr>\n",
       "      <th>0</th>\n",
       "      <td>1</td>\n",
       "      <td>0</td>\n",
       "      <td>3</td>\n",
       "      <td>Braund, Mr. Owen Harris</td>\n",
       "      <td>male</td>\n",
       "      <td>22.0</td>\n",
       "      <td>1</td>\n",
       "      <td>0</td>\n",
       "      <td>A/5 21171</td>\n",
       "      <td>7.2500</td>\n",
       "      <td>NaN</td>\n",
       "      <td>S</td>\n",
       "    </tr>\n",
       "    <tr>\n",
       "      <th>1</th>\n",
       "      <td>2</td>\n",
       "      <td>1</td>\n",
       "      <td>1</td>\n",
       "      <td>Cumings, Mrs. John Bradley (Florence Briggs Th...</td>\n",
       "      <td>female</td>\n",
       "      <td>38.0</td>\n",
       "      <td>1</td>\n",
       "      <td>0</td>\n",
       "      <td>PC 17599</td>\n",
       "      <td>71.2833</td>\n",
       "      <td>C85</td>\n",
       "      <td>C</td>\n",
       "    </tr>\n",
       "    <tr>\n",
       "      <th>2</th>\n",
       "      <td>3</td>\n",
       "      <td>1</td>\n",
       "      <td>3</td>\n",
       "      <td>Heikkinen, Miss. Laina</td>\n",
       "      <td>female</td>\n",
       "      <td>26.0</td>\n",
       "      <td>0</td>\n",
       "      <td>0</td>\n",
       "      <td>STON/O2. 3101282</td>\n",
       "      <td>7.9250</td>\n",
       "      <td>NaN</td>\n",
       "      <td>S</td>\n",
       "    </tr>\n",
       "    <tr>\n",
       "      <th>3</th>\n",
       "      <td>4</td>\n",
       "      <td>1</td>\n",
       "      <td>1</td>\n",
       "      <td>Futrelle, Mrs. Jacques Heath (Lily May Peel)</td>\n",
       "      <td>female</td>\n",
       "      <td>35.0</td>\n",
       "      <td>1</td>\n",
       "      <td>0</td>\n",
       "      <td>113803</td>\n",
       "      <td>53.1000</td>\n",
       "      <td>C123</td>\n",
       "      <td>S</td>\n",
       "    </tr>\n",
       "    <tr>\n",
       "      <th>4</th>\n",
       "      <td>5</td>\n",
       "      <td>0</td>\n",
       "      <td>3</td>\n",
       "      <td>Allen, Mr. William Henry</td>\n",
       "      <td>male</td>\n",
       "      <td>35.0</td>\n",
       "      <td>0</td>\n",
       "      <td>0</td>\n",
       "      <td>373450</td>\n",
       "      <td>8.0500</td>\n",
       "      <td>NaN</td>\n",
       "      <td>S</td>\n",
       "    </tr>\n",
       "  </tbody>\n",
       "</table>\n",
       "</div>"
      ],
      "text/plain": [
       "   PassengerId  Survived  Pclass  \\\n",
       "0            1         0       3   \n",
       "1            2         1       1   \n",
       "2            3         1       3   \n",
       "3            4         1       1   \n",
       "4            5         0       3   \n",
       "\n",
       "                                                Name     Sex   Age  SibSp  \\\n",
       "0                            Braund, Mr. Owen Harris    male  22.0      1   \n",
       "1  Cumings, Mrs. John Bradley (Florence Briggs Th...  female  38.0      1   \n",
       "2                             Heikkinen, Miss. Laina  female  26.0      0   \n",
       "3       Futrelle, Mrs. Jacques Heath (Lily May Peel)  female  35.0      1   \n",
       "4                           Allen, Mr. William Henry    male  35.0      0   \n",
       "\n",
       "   Parch            Ticket     Fare Cabin Embarked  \n",
       "0      0         A/5 21171   7.2500   NaN        S  \n",
       "1      0          PC 17599  71.2833   C85        C  \n",
       "2      0  STON/O2. 3101282   7.9250   NaN        S  \n",
       "3      0            113803  53.1000  C123        S  \n",
       "4      0            373450   8.0500   NaN        S  "
      ]
     },
     "execution_count": 78,
     "metadata": {},
     "output_type": "execute_result"
    }
   ],
   "source": [
    "df.head()"
   ]
  },
  {
   "cell_type": "code",
   "execution_count": 79,
   "metadata": {},
   "outputs": [
    {
     "data": {
      "text/plain": [
       "Survived       1.000000\n",
       "Fare           0.257307\n",
       "Parch          0.081629\n",
       "PassengerId   -0.005007\n",
       "SibSp         -0.035322\n",
       "Age           -0.077221\n",
       "Pclass        -0.338481\n",
       "Name: Survived, dtype: float64"
      ]
     },
     "execution_count": 79,
     "metadata": {},
     "output_type": "execute_result"
    }
   ],
   "source": [
    "corr_matrix = df.corr()\n",
    "corr_matrix[\"Survived\"].sort_values(ascending=False)"
   ]
  },
  {
   "cell_type": "code",
   "execution_count": 80,
   "metadata": {},
   "outputs": [
    {
     "data": {
      "text/html": [
       "<div>\n",
       "<style scoped>\n",
       "    .dataframe tbody tr th:only-of-type {\n",
       "        vertical-align: middle;\n",
       "    }\n",
       "\n",
       "    .dataframe tbody tr th {\n",
       "        vertical-align: top;\n",
       "    }\n",
       "\n",
       "    .dataframe thead th {\n",
       "        text-align: right;\n",
       "    }\n",
       "</style>\n",
       "<table border=\"1\" class=\"dataframe\">\n",
       "  <thead>\n",
       "    <tr style=\"text-align: right;\">\n",
       "      <th></th>\n",
       "      <th>PassengerId</th>\n",
       "      <th>Survived</th>\n",
       "      <th>Pclass</th>\n",
       "      <th>Name</th>\n",
       "      <th>Sex</th>\n",
       "      <th>Age</th>\n",
       "      <th>SibSp</th>\n",
       "      <th>Parch</th>\n",
       "      <th>Ticket</th>\n",
       "      <th>Fare</th>\n",
       "      <th>Cabin</th>\n",
       "      <th>Embarked</th>\n",
       "    </tr>\n",
       "  </thead>\n",
       "  <tbody>\n",
       "    <tr>\n",
       "      <th>0</th>\n",
       "      <td>1</td>\n",
       "      <td>0</td>\n",
       "      <td>3</td>\n",
       "      <td>Braund, Mr. Owen Harris</td>\n",
       "      <td>male</td>\n",
       "      <td>22.0</td>\n",
       "      <td>1</td>\n",
       "      <td>0</td>\n",
       "      <td>A/5 21171</td>\n",
       "      <td>7.2500</td>\n",
       "      <td>NaN</td>\n",
       "      <td>S</td>\n",
       "    </tr>\n",
       "    <tr>\n",
       "      <th>1</th>\n",
       "      <td>2</td>\n",
       "      <td>1</td>\n",
       "      <td>1</td>\n",
       "      <td>Cumings, Mrs. John Bradley (Florence Briggs Th...</td>\n",
       "      <td>female</td>\n",
       "      <td>38.0</td>\n",
       "      <td>1</td>\n",
       "      <td>0</td>\n",
       "      <td>PC 17599</td>\n",
       "      <td>71.2833</td>\n",
       "      <td>C85</td>\n",
       "      <td>C</td>\n",
       "    </tr>\n",
       "    <tr>\n",
       "      <th>2</th>\n",
       "      <td>3</td>\n",
       "      <td>1</td>\n",
       "      <td>3</td>\n",
       "      <td>Heikkinen, Miss. Laina</td>\n",
       "      <td>female</td>\n",
       "      <td>26.0</td>\n",
       "      <td>0</td>\n",
       "      <td>0</td>\n",
       "      <td>STON/O2. 3101282</td>\n",
       "      <td>7.9250</td>\n",
       "      <td>NaN</td>\n",
       "      <td>S</td>\n",
       "    </tr>\n",
       "    <tr>\n",
       "      <th>3</th>\n",
       "      <td>4</td>\n",
       "      <td>1</td>\n",
       "      <td>1</td>\n",
       "      <td>Futrelle, Mrs. Jacques Heath (Lily May Peel)</td>\n",
       "      <td>female</td>\n",
       "      <td>35.0</td>\n",
       "      <td>1</td>\n",
       "      <td>0</td>\n",
       "      <td>113803</td>\n",
       "      <td>53.1000</td>\n",
       "      <td>C123</td>\n",
       "      <td>S</td>\n",
       "    </tr>\n",
       "    <tr>\n",
       "      <th>4</th>\n",
       "      <td>5</td>\n",
       "      <td>0</td>\n",
       "      <td>3</td>\n",
       "      <td>Allen, Mr. William Henry</td>\n",
       "      <td>male</td>\n",
       "      <td>35.0</td>\n",
       "      <td>0</td>\n",
       "      <td>0</td>\n",
       "      <td>373450</td>\n",
       "      <td>8.0500</td>\n",
       "      <td>NaN</td>\n",
       "      <td>S</td>\n",
       "    </tr>\n",
       "  </tbody>\n",
       "</table>\n",
       "</div>"
      ],
      "text/plain": [
       "   PassengerId  Survived  Pclass  \\\n",
       "0            1         0       3   \n",
       "1            2         1       1   \n",
       "2            3         1       3   \n",
       "3            4         1       1   \n",
       "4            5         0       3   \n",
       "\n",
       "                                                Name     Sex   Age  SibSp  \\\n",
       "0                            Braund, Mr. Owen Harris    male  22.0      1   \n",
       "1  Cumings, Mrs. John Bradley (Florence Briggs Th...  female  38.0      1   \n",
       "2                             Heikkinen, Miss. Laina  female  26.0      0   \n",
       "3       Futrelle, Mrs. Jacques Heath (Lily May Peel)  female  35.0      1   \n",
       "4                           Allen, Mr. William Henry    male  35.0      0   \n",
       "\n",
       "   Parch            Ticket     Fare Cabin Embarked  \n",
       "0      0         A/5 21171   7.2500   NaN        S  \n",
       "1      0          PC 17599  71.2833   C85        C  \n",
       "2      0  STON/O2. 3101282   7.9250   NaN        S  \n",
       "3      0            113803  53.1000  C123        S  \n",
       "4      0            373450   8.0500   NaN        S  "
      ]
     },
     "execution_count": 80,
     "metadata": {},
     "output_type": "execute_result"
    }
   ],
   "source": [
    "df.head()"
   ]
  },
  {
   "cell_type": "code",
   "execution_count": 81,
   "metadata": {},
   "outputs": [],
   "source": [
    "median = df[\"Age\"].median()\n",
    "df[\"Age\"].fillna(median, inplace=True)"
   ]
  },
  {
   "cell_type": "code",
   "execution_count": 82,
   "metadata": {},
   "outputs": [
    {
     "name": "stdout",
     "output_type": "stream",
     "text": [
      "<class 'pandas.core.frame.DataFrame'>\n",
      "RangeIndex: 891 entries, 0 to 890\n",
      "Data columns (total 12 columns):\n",
      "PassengerId    891 non-null int64\n",
      "Survived       891 non-null int64\n",
      "Pclass         891 non-null int64\n",
      "Name           891 non-null object\n",
      "Sex            891 non-null object\n",
      "Age            891 non-null float64\n",
      "SibSp          891 non-null int64\n",
      "Parch          891 non-null int64\n",
      "Ticket         891 non-null object\n",
      "Fare           891 non-null float64\n",
      "Cabin          204 non-null object\n",
      "Embarked       889 non-null object\n",
      "dtypes: float64(2), int64(5), object(5)\n",
      "memory usage: 83.6+ KB\n"
     ]
    }
   ],
   "source": [
    "df.info()"
   ]
  },
  {
   "cell_type": "code",
   "execution_count": 83,
   "metadata": {},
   "outputs": [],
   "source": [
    "X = df.drop(['Survived'], axis=1)\n",
    "y = df.Survived"
   ]
  },
  {
   "cell_type": "code",
   "execution_count": 84,
   "metadata": {},
   "outputs": [],
   "source": [
    "emb = pd.get_dummies(X.Embarked)\n",
    "\n",
    "emb.drop(['C'], axis=1, inplace=True)"
   ]
  },
  {
   "cell_type": "code",
   "execution_count": 85,
   "metadata": {},
   "outputs": [],
   "source": [
    "X.drop(['Embarked'], axis=1, inplace=True)"
   ]
  },
  {
   "cell_type": "code",
   "execution_count": 86,
   "metadata": {},
   "outputs": [],
   "source": [
    "X = pd.concat([X, emb], axis=1)"
   ]
  },
  {
   "cell_type": "code",
   "execution_count": 87,
   "metadata": {},
   "outputs": [],
   "source": [
    "X.drop(['Name', 'Ticket', 'Cabin', 'PassengerId'], axis=1, inplace=True)"
   ]
  },
  {
   "cell_type": "code",
   "execution_count": 88,
   "metadata": {},
   "outputs": [],
   "source": [
    "Sex = pd.get_dummies(X.Sex)"
   ]
  },
  {
   "cell_type": "code",
   "execution_count": 89,
   "metadata": {},
   "outputs": [],
   "source": [
    "Sex.drop(['female'], axis=1, inplace=True)"
   ]
  },
  {
   "cell_type": "code",
   "execution_count": 90,
   "metadata": {},
   "outputs": [],
   "source": [
    "X.drop(['Sex'], axis=1, inplace=True)"
   ]
  },
  {
   "cell_type": "code",
   "execution_count": 91,
   "metadata": {},
   "outputs": [],
   "source": [
    "X = pd.concat([X, Sex], axis=1)"
   ]
  },
  {
   "cell_type": "code",
   "execution_count": 92,
   "metadata": {},
   "outputs": [
    {
     "data": {
      "text/html": [
       "<div>\n",
       "<style scoped>\n",
       "    .dataframe tbody tr th:only-of-type {\n",
       "        vertical-align: middle;\n",
       "    }\n",
       "\n",
       "    .dataframe tbody tr th {\n",
       "        vertical-align: top;\n",
       "    }\n",
       "\n",
       "    .dataframe thead th {\n",
       "        text-align: right;\n",
       "    }\n",
       "</style>\n",
       "<table border=\"1\" class=\"dataframe\">\n",
       "  <thead>\n",
       "    <tr style=\"text-align: right;\">\n",
       "      <th></th>\n",
       "      <th>Pclass</th>\n",
       "      <th>Age</th>\n",
       "      <th>SibSp</th>\n",
       "      <th>Parch</th>\n",
       "      <th>Fare</th>\n",
       "      <th>Q</th>\n",
       "      <th>S</th>\n",
       "      <th>male</th>\n",
       "    </tr>\n",
       "  </thead>\n",
       "  <tbody>\n",
       "    <tr>\n",
       "      <th>0</th>\n",
       "      <td>3</td>\n",
       "      <td>22.0</td>\n",
       "      <td>1</td>\n",
       "      <td>0</td>\n",
       "      <td>7.2500</td>\n",
       "      <td>0</td>\n",
       "      <td>1</td>\n",
       "      <td>1</td>\n",
       "    </tr>\n",
       "    <tr>\n",
       "      <th>1</th>\n",
       "      <td>1</td>\n",
       "      <td>38.0</td>\n",
       "      <td>1</td>\n",
       "      <td>0</td>\n",
       "      <td>71.2833</td>\n",
       "      <td>0</td>\n",
       "      <td>0</td>\n",
       "      <td>0</td>\n",
       "    </tr>\n",
       "    <tr>\n",
       "      <th>2</th>\n",
       "      <td>3</td>\n",
       "      <td>26.0</td>\n",
       "      <td>0</td>\n",
       "      <td>0</td>\n",
       "      <td>7.9250</td>\n",
       "      <td>0</td>\n",
       "      <td>1</td>\n",
       "      <td>0</td>\n",
       "    </tr>\n",
       "    <tr>\n",
       "      <th>3</th>\n",
       "      <td>1</td>\n",
       "      <td>35.0</td>\n",
       "      <td>1</td>\n",
       "      <td>0</td>\n",
       "      <td>53.1000</td>\n",
       "      <td>0</td>\n",
       "      <td>1</td>\n",
       "      <td>0</td>\n",
       "    </tr>\n",
       "    <tr>\n",
       "      <th>4</th>\n",
       "      <td>3</td>\n",
       "      <td>35.0</td>\n",
       "      <td>0</td>\n",
       "      <td>0</td>\n",
       "      <td>8.0500</td>\n",
       "      <td>0</td>\n",
       "      <td>1</td>\n",
       "      <td>1</td>\n",
       "    </tr>\n",
       "  </tbody>\n",
       "</table>\n",
       "</div>"
      ],
      "text/plain": [
       "   Pclass   Age  SibSp  Parch     Fare  Q  S  male\n",
       "0       3  22.0      1      0   7.2500  0  1     1\n",
       "1       1  38.0      1      0  71.2833  0  0     0\n",
       "2       3  26.0      0      0   7.9250  0  1     0\n",
       "3       1  35.0      1      0  53.1000  0  1     0\n",
       "4       3  35.0      0      0   8.0500  0  1     1"
      ]
     },
     "execution_count": 92,
     "metadata": {},
     "output_type": "execute_result"
    }
   ],
   "source": [
    "X.head()"
   ]
  },
  {
   "cell_type": "code",
   "execution_count": 93,
   "metadata": {},
   "outputs": [],
   "source": [
    "Pclass = pd.get_dummies(X.Pclass)"
   ]
  },
  {
   "cell_type": "code",
   "execution_count": 94,
   "metadata": {},
   "outputs": [],
   "source": [
    "Pclass.drop([1], axis=1, inplace=True)"
   ]
  },
  {
   "cell_type": "code",
   "execution_count": 95,
   "metadata": {},
   "outputs": [],
   "source": [
    "X.drop(['Pclass'], axis=1, inplace=True)\n",
    "X = pd.concat([X, Pclass], axis=1)"
   ]
  },
  {
   "cell_type": "code",
   "execution_count": 96,
   "metadata": {},
   "outputs": [
    {
     "data": {
      "text/html": [
       "<div>\n",
       "<style scoped>\n",
       "    .dataframe tbody tr th:only-of-type {\n",
       "        vertical-align: middle;\n",
       "    }\n",
       "\n",
       "    .dataframe tbody tr th {\n",
       "        vertical-align: top;\n",
       "    }\n",
       "\n",
       "    .dataframe thead th {\n",
       "        text-align: right;\n",
       "    }\n",
       "</style>\n",
       "<table border=\"1\" class=\"dataframe\">\n",
       "  <thead>\n",
       "    <tr style=\"text-align: right;\">\n",
       "      <th></th>\n",
       "      <th>Age</th>\n",
       "      <th>SibSp</th>\n",
       "      <th>Parch</th>\n",
       "      <th>Fare</th>\n",
       "      <th>Q</th>\n",
       "      <th>S</th>\n",
       "      <th>male</th>\n",
       "      <th>2</th>\n",
       "      <th>3</th>\n",
       "    </tr>\n",
       "  </thead>\n",
       "  <tbody>\n",
       "    <tr>\n",
       "      <th>0</th>\n",
       "      <td>22.0</td>\n",
       "      <td>1</td>\n",
       "      <td>0</td>\n",
       "      <td>7.2500</td>\n",
       "      <td>0</td>\n",
       "      <td>1</td>\n",
       "      <td>1</td>\n",
       "      <td>0</td>\n",
       "      <td>1</td>\n",
       "    </tr>\n",
       "    <tr>\n",
       "      <th>1</th>\n",
       "      <td>38.0</td>\n",
       "      <td>1</td>\n",
       "      <td>0</td>\n",
       "      <td>71.2833</td>\n",
       "      <td>0</td>\n",
       "      <td>0</td>\n",
       "      <td>0</td>\n",
       "      <td>0</td>\n",
       "      <td>0</td>\n",
       "    </tr>\n",
       "    <tr>\n",
       "      <th>2</th>\n",
       "      <td>26.0</td>\n",
       "      <td>0</td>\n",
       "      <td>0</td>\n",
       "      <td>7.9250</td>\n",
       "      <td>0</td>\n",
       "      <td>1</td>\n",
       "      <td>0</td>\n",
       "      <td>0</td>\n",
       "      <td>1</td>\n",
       "    </tr>\n",
       "    <tr>\n",
       "      <th>3</th>\n",
       "      <td>35.0</td>\n",
       "      <td>1</td>\n",
       "      <td>0</td>\n",
       "      <td>53.1000</td>\n",
       "      <td>0</td>\n",
       "      <td>1</td>\n",
       "      <td>0</td>\n",
       "      <td>0</td>\n",
       "      <td>0</td>\n",
       "    </tr>\n",
       "    <tr>\n",
       "      <th>4</th>\n",
       "      <td>35.0</td>\n",
       "      <td>0</td>\n",
       "      <td>0</td>\n",
       "      <td>8.0500</td>\n",
       "      <td>0</td>\n",
       "      <td>1</td>\n",
       "      <td>1</td>\n",
       "      <td>0</td>\n",
       "      <td>1</td>\n",
       "    </tr>\n",
       "  </tbody>\n",
       "</table>\n",
       "</div>"
      ],
      "text/plain": [
       "    Age  SibSp  Parch     Fare  Q  S  male  2  3\n",
       "0  22.0      1      0   7.2500  0  1     1  0  1\n",
       "1  38.0      1      0  71.2833  0  0     0  0  0\n",
       "2  26.0      0      0   7.9250  0  1     0  0  1\n",
       "3  35.0      1      0  53.1000  0  1     0  0  0\n",
       "4  35.0      0      0   8.0500  0  1     1  0  1"
      ]
     },
     "execution_count": 96,
     "metadata": {},
     "output_type": "execute_result"
    }
   ],
   "source": [
    "X.head()"
   ]
  },
  {
   "cell_type": "code",
   "execution_count": 97,
   "metadata": {},
   "outputs": [],
   "source": [
    "def set_age(x):\n",
    "    if pd.isna(x):\n",
    "        return X.Age.mean()\n",
    "    else:\n",
    "        return x"
   ]
  },
  {
   "cell_type": "code",
   "execution_count": 98,
   "metadata": {},
   "outputs": [],
   "source": [
    "X.Age = X['Age'].apply(set_age)"
   ]
  },
  {
   "cell_type": "code",
   "execution_count": null,
   "metadata": {},
   "outputs": [],
   "source": [
    "import seaborn as sns"
   ]
  },
  {
   "cell_type": "code",
   "execution_count": null,
   "metadata": {},
   "outputs": [],
   "source": [
    "sns.heatmap(X.isnull(), yticklabels=False)"
   ]
  },
  {
   "cell_type": "code",
   "execution_count": 99,
   "metadata": {},
   "outputs": [],
   "source": [
    "from sklearn.preprocessing import StandardScaler\n",
    "from sklearn.model_selection import train_test_split"
   ]
  },
  {
   "cell_type": "code",
   "execution_count": 100,
   "metadata": {},
   "outputs": [],
   "source": [
    "X_train, X_test, y_train, y_test = train_test_split(X, y, test_size=0.2, random_state=42)"
   ]
  },
  {
   "cell_type": "code",
   "execution_count": 101,
   "metadata": {},
   "outputs": [],
   "source": [
    "ss = StandardScaler()"
   ]
  },
  {
   "cell_type": "code",
   "execution_count": 102,
   "metadata": {},
   "outputs": [
    {
     "name": "stderr",
     "output_type": "stream",
     "text": [
      "D:\\Anaconda3\\envs\\main_env\\lib\\site-packages\\sklearn\\preprocessing\\data.py:625: DataConversionWarning: Data with input dtype uint8, int64, float64 were all converted to float64 by StandardScaler.\n",
      "  return self.partial_fit(X, y)\n",
      "D:\\Anaconda3\\envs\\main_env\\lib\\site-packages\\sklearn\\base.py:462: DataConversionWarning: Data with input dtype uint8, int64, float64 were all converted to float64 by StandardScaler.\n",
      "  return self.fit(X, **fit_params).transform(X)\n"
     ]
    }
   ],
   "source": [
    "X_train = ss.fit_transform(X_train)"
   ]
  },
  {
   "cell_type": "code",
   "execution_count": 103,
   "metadata": {},
   "outputs": [
    {
     "name": "stderr",
     "output_type": "stream",
     "text": [
      "D:\\Anaconda3\\envs\\main_env\\lib\\site-packages\\sklearn\\preprocessing\\data.py:625: DataConversionWarning: Data with input dtype uint8, int64, float64 were all converted to float64 by StandardScaler.\n",
      "  return self.partial_fit(X, y)\n",
      "D:\\Anaconda3\\envs\\main_env\\lib\\site-packages\\sklearn\\base.py:462: DataConversionWarning: Data with input dtype uint8, int64, float64 were all converted to float64 by StandardScaler.\n",
      "  return self.fit(X, **fit_params).transform(X)\n"
     ]
    }
   ],
   "source": [
    "X_test = ss.fit_transform(X_test)"
   ]
  },
  {
   "cell_type": "code",
   "execution_count": 114,
   "metadata": {},
   "outputs": [],
   "source": [
    "from tensorflow.keras.layers import Dense\n",
    "from tensorflow.keras.models import Sequential\n",
    "from tensorflow.keras.optimizers import Adam"
   ]
  },
  {
   "cell_type": "code",
   "execution_count": 108,
   "metadata": {},
   "outputs": [
    {
     "data": {
      "text/html": [
       "<div>\n",
       "<style scoped>\n",
       "    .dataframe tbody tr th:only-of-type {\n",
       "        vertical-align: middle;\n",
       "    }\n",
       "\n",
       "    .dataframe tbody tr th {\n",
       "        vertical-align: top;\n",
       "    }\n",
       "\n",
       "    .dataframe thead th {\n",
       "        text-align: right;\n",
       "    }\n",
       "</style>\n",
       "<table border=\"1\" class=\"dataframe\">\n",
       "  <thead>\n",
       "    <tr style=\"text-align: right;\">\n",
       "      <th></th>\n",
       "      <th>Age</th>\n",
       "      <th>SibSp</th>\n",
       "      <th>Parch</th>\n",
       "      <th>Fare</th>\n",
       "      <th>Q</th>\n",
       "      <th>S</th>\n",
       "      <th>male</th>\n",
       "      <th>2</th>\n",
       "      <th>3</th>\n",
       "    </tr>\n",
       "  </thead>\n",
       "  <tbody>\n",
       "    <tr>\n",
       "      <th>0</th>\n",
       "      <td>22.0</td>\n",
       "      <td>1</td>\n",
       "      <td>0</td>\n",
       "      <td>7.2500</td>\n",
       "      <td>0</td>\n",
       "      <td>1</td>\n",
       "      <td>1</td>\n",
       "      <td>0</td>\n",
       "      <td>1</td>\n",
       "    </tr>\n",
       "    <tr>\n",
       "      <th>1</th>\n",
       "      <td>38.0</td>\n",
       "      <td>1</td>\n",
       "      <td>0</td>\n",
       "      <td>71.2833</td>\n",
       "      <td>0</td>\n",
       "      <td>0</td>\n",
       "      <td>0</td>\n",
       "      <td>0</td>\n",
       "      <td>0</td>\n",
       "    </tr>\n",
       "    <tr>\n",
       "      <th>2</th>\n",
       "      <td>26.0</td>\n",
       "      <td>0</td>\n",
       "      <td>0</td>\n",
       "      <td>7.9250</td>\n",
       "      <td>0</td>\n",
       "      <td>1</td>\n",
       "      <td>0</td>\n",
       "      <td>0</td>\n",
       "      <td>1</td>\n",
       "    </tr>\n",
       "    <tr>\n",
       "      <th>3</th>\n",
       "      <td>35.0</td>\n",
       "      <td>1</td>\n",
       "      <td>0</td>\n",
       "      <td>53.1000</td>\n",
       "      <td>0</td>\n",
       "      <td>1</td>\n",
       "      <td>0</td>\n",
       "      <td>0</td>\n",
       "      <td>0</td>\n",
       "    </tr>\n",
       "    <tr>\n",
       "      <th>4</th>\n",
       "      <td>35.0</td>\n",
       "      <td>0</td>\n",
       "      <td>0</td>\n",
       "      <td>8.0500</td>\n",
       "      <td>0</td>\n",
       "      <td>1</td>\n",
       "      <td>1</td>\n",
       "      <td>0</td>\n",
       "      <td>1</td>\n",
       "    </tr>\n",
       "  </tbody>\n",
       "</table>\n",
       "</div>"
      ],
      "text/plain": [
       "    Age  SibSp  Parch     Fare  Q  S  male  2  3\n",
       "0  22.0      1      0   7.2500  0  1     1  0  1\n",
       "1  38.0      1      0  71.2833  0  0     0  0  0\n",
       "2  26.0      0      0   7.9250  0  1     0  0  1\n",
       "3  35.0      1      0  53.1000  0  1     0  0  0\n",
       "4  35.0      0      0   8.0500  0  1     1  0  1"
      ]
     },
     "execution_count": 108,
     "metadata": {},
     "output_type": "execute_result"
    }
   ],
   "source": [
    "X.head()"
   ]
  },
  {
   "cell_type": "code",
   "execution_count": 173,
   "metadata": {},
   "outputs": [],
   "source": [
    "model = Sequential()"
   ]
  },
  {
   "cell_type": "code",
   "execution_count": 174,
   "metadata": {},
   "outputs": [],
   "source": [
    "model.add(Dense(4, activation='relu', input_shape=(9,)))\n",
    "model.add(Dense(4, activation='relu'))\n",
    "model.add(Dense(1, activation='sigmoid'))"
   ]
  },
  {
   "cell_type": "code",
   "execution_count": 175,
   "metadata": {},
   "outputs": [],
   "source": [
    "adam = Adam(lr=0.001, beta_1=0.9, beta_2=0.999, epsilon=None, decay=0.0, amsgrad=False)"
   ]
  },
  {
   "cell_type": "code",
   "execution_count": 176,
   "metadata": {},
   "outputs": [],
   "source": [
    "model.compile(metrics=['accuracy'], loss='mean_squared_error', optimizer=adam)"
   ]
  },
  {
   "cell_type": "code",
   "execution_count": 177,
   "metadata": {},
   "outputs": [
    {
     "name": "stdout",
     "output_type": "stream",
     "text": [
      "Epoch 1/150\n",
      "712/712 [==============================] - 1s 774us/step - loss: 0.2487 - acc: 0.6264\n",
      "Epoch 2/150\n",
      "712/712 [==============================] - 0s 86us/step - loss: 0.2161 - acc: 0.6910\n",
      "Epoch 3/150\n",
      "712/712 [==============================] - 0s 87us/step - loss: 0.1912 - acc: 0.7346\n",
      "Epoch 4/150\n",
      "712/712 [==============================] - 0s 89us/step - loss: 0.1728 - acc: 0.7640\n",
      "Epoch 5/150\n",
      "712/712 [==============================] - 0s 84us/step - loss: 0.1601 - acc: 0.7851\n",
      "Epoch 6/150\n",
      "712/712 [==============================] - 0s 89us/step - loss: 0.1518 - acc: 0.8006\n",
      "Epoch 7/150\n",
      "712/712 [==============================] - 0s 84us/step - loss: 0.1464 - acc: 0.8020\n",
      "Epoch 8/150\n",
      "712/712 [==============================] - 0s 84us/step - loss: 0.1424 - acc: 0.8090\n",
      "Epoch 9/150\n",
      "712/712 [==============================] - 0s 84us/step - loss: 0.1395 - acc: 0.8160\n",
      "Epoch 10/150\n",
      "712/712 [==============================] - 0s 89us/step - loss: 0.1374 - acc: 0.8216\n",
      "Epoch 11/150\n",
      "712/712 [==============================] - 0s 87us/step - loss: 0.1363 - acc: 0.8244\n",
      "Epoch 12/150\n",
      "712/712 [==============================] - 0s 86us/step - loss: 0.1353 - acc: 0.8272\n",
      "Epoch 13/150\n",
      "712/712 [==============================] - 0s 86us/step - loss: 0.1348 - acc: 0.8216\n",
      "Epoch 14/150\n",
      "712/712 [==============================] - 0s 90us/step - loss: 0.1343 - acc: 0.8272\n",
      "Epoch 15/150\n",
      "712/712 [==============================] - 0s 86us/step - loss: 0.1336 - acc: 0.8258\n",
      "Epoch 16/150\n",
      "712/712 [==============================] - 0s 84us/step - loss: 0.1331 - acc: 0.8287\n",
      "Epoch 17/150\n",
      "712/712 [==============================] - 0s 84us/step - loss: 0.1324 - acc: 0.8301\n",
      "Epoch 18/150\n",
      "712/712 [==============================] - 0s 87us/step - loss: 0.1320 - acc: 0.8287\n",
      "Epoch 19/150\n",
      "712/712 [==============================] - 0s 86us/step - loss: 0.1315 - acc: 0.8315\n",
      "Epoch 20/150\n",
      "712/712 [==============================] - 0s 90us/step - loss: 0.1309 - acc: 0.8315\n",
      "Epoch 21/150\n",
      "712/712 [==============================] - 0s 90us/step - loss: 0.1307 - acc: 0.8301\n",
      "Epoch 22/150\n",
      "712/712 [==============================] - 0s 86us/step - loss: 0.1303 - acc: 0.8329\n",
      "Epoch 23/150\n",
      "712/712 [==============================] - 0s 84us/step - loss: 0.1299 - acc: 0.8315\n",
      "Epoch 24/150\n",
      "712/712 [==============================] - 0s 86us/step - loss: 0.1299 - acc: 0.8357\n",
      "Epoch 25/150\n",
      "712/712 [==============================] - 0s 86us/step - loss: 0.1296 - acc: 0.8329\n",
      "Epoch 26/150\n",
      "712/712 [==============================] - 0s 91us/step - loss: 0.1295 - acc: 0.8371\n",
      "Epoch 27/150\n",
      "712/712 [==============================] - 0s 82us/step - loss: 0.1294 - acc: 0.8343\n",
      "Epoch 28/150\n",
      "712/712 [==============================] - 0s 80us/step - loss: 0.1292 - acc: 0.8357\n",
      "Epoch 29/150\n",
      "712/712 [==============================] - 0s 86us/step - loss: 0.1289 - acc: 0.8343\n",
      "Epoch 30/150\n",
      "712/712 [==============================] - 0s 84us/step - loss: 0.1290 - acc: 0.8343\n",
      "Epoch 31/150\n",
      "712/712 [==============================] - 0s 86us/step - loss: 0.1288 - acc: 0.8315\n",
      "Epoch 32/150\n",
      "712/712 [==============================] - 0s 86us/step - loss: 0.1288 - acc: 0.8329\n",
      "Epoch 33/150\n",
      "712/712 [==============================] - 0s 83us/step - loss: 0.1285 - acc: 0.8343\n",
      "Epoch 34/150\n",
      "712/712 [==============================] - 0s 86us/step - loss: 0.1282 - acc: 0.8343\n",
      "Epoch 35/150\n",
      "712/712 [==============================] - 0s 86us/step - loss: 0.1287 - acc: 0.8329\n",
      "Epoch 36/150\n",
      "712/712 [==============================] - 0s 87us/step - loss: 0.1282 - acc: 0.8357\n",
      "Epoch 37/150\n",
      "712/712 [==============================] - 0s 89us/step - loss: 0.1281 - acc: 0.8315\n",
      "Epoch 38/150\n",
      "712/712 [==============================] - 0s 86us/step - loss: 0.1280 - acc: 0.8329\n",
      "Epoch 39/150\n",
      "712/712 [==============================] - 0s 87us/step - loss: 0.1279 - acc: 0.8329\n",
      "Epoch 40/150\n",
      "712/712 [==============================] - 0s 86us/step - loss: 0.1278 - acc: 0.8287\n",
      "Epoch 41/150\n",
      "712/712 [==============================] - 0s 86us/step - loss: 0.1277 - acc: 0.8258\n",
      "Epoch 42/150\n",
      "712/712 [==============================] - 0s 83us/step - loss: 0.1277 - acc: 0.8357\n",
      "Epoch 43/150\n",
      "712/712 [==============================] - 0s 86us/step - loss: 0.1275 - acc: 0.8287\n",
      "Epoch 44/150\n",
      "712/712 [==============================] - 0s 87us/step - loss: 0.1275 - acc: 0.8272\n",
      "Epoch 45/150\n",
      "712/712 [==============================] - 0s 89us/step - loss: 0.1272 - acc: 0.8329\n",
      "Epoch 46/150\n",
      "712/712 [==============================] - 0s 87us/step - loss: 0.1274 - acc: 0.8343\n",
      "Epoch 47/150\n",
      "712/712 [==============================] - 0s 86us/step - loss: 0.1272 - acc: 0.8329\n",
      "Epoch 48/150\n",
      "712/712 [==============================] - 0s 82us/step - loss: 0.1273 - acc: 0.8343\n",
      "Epoch 49/150\n",
      "712/712 [==============================] - 0s 87us/step - loss: 0.1270 - acc: 0.8315\n",
      "Epoch 50/150\n",
      "712/712 [==============================] - 0s 83us/step - loss: 0.1270 - acc: 0.8343\n",
      "Epoch 51/150\n",
      "712/712 [==============================] - 0s 86us/step - loss: 0.1270 - acc: 0.8272\n",
      "Epoch 52/150\n",
      "712/712 [==============================] - 0s 80us/step - loss: 0.1270 - acc: 0.8329\n",
      "Epoch 53/150\n",
      "712/712 [==============================] - 0s 87us/step - loss: 0.1270 - acc: 0.8258\n",
      "Epoch 54/150\n",
      "712/712 [==============================] - 0s 80us/step - loss: 0.1266 - acc: 0.8343\n",
      "Epoch 55/150\n",
      "712/712 [==============================] - 0s 86us/step - loss: 0.1268 - acc: 0.8385\n",
      "Epoch 56/150\n",
      "712/712 [==============================] - 0s 84us/step - loss: 0.1265 - acc: 0.8343\n",
      "Epoch 57/150\n",
      "712/712 [==============================] - 0s 84us/step - loss: 0.1267 - acc: 0.8343\n",
      "Epoch 58/150\n",
      "712/712 [==============================] - 0s 82us/step - loss: 0.1263 - acc: 0.8371\n",
      "Epoch 59/150\n",
      "712/712 [==============================] - 0s 84us/step - loss: 0.1262 - acc: 0.8385\n",
      "Epoch 60/150\n",
      "712/712 [==============================] - 0s 87us/step - loss: 0.1263 - acc: 0.8385\n",
      "Epoch 61/150\n",
      "712/712 [==============================] - 0s 80us/step - loss: 0.1262 - acc: 0.8371\n",
      "Epoch 62/150\n",
      "712/712 [==============================] - 0s 84us/step - loss: 0.1263 - acc: 0.8343\n",
      "Epoch 63/150\n",
      "712/712 [==============================] - 0s 89us/step - loss: 0.1262 - acc: 0.8329\n",
      "Epoch 64/150\n",
      "712/712 [==============================] - 0s 87us/step - loss: 0.1262 - acc: 0.8371\n",
      "Epoch 65/150\n",
      "712/712 [==============================] - 0s 84us/step - loss: 0.1262 - acc: 0.8315\n",
      "Epoch 66/150\n",
      "712/712 [==============================] - 0s 82us/step - loss: 0.1261 - acc: 0.8329\n",
      "Epoch 67/150\n",
      "712/712 [==============================] - 0s 84us/step - loss: 0.1261 - acc: 0.8357\n",
      "Epoch 68/150\n",
      "712/712 [==============================] - 0s 82us/step - loss: 0.1260 - acc: 0.8385\n",
      "Epoch 69/150\n",
      "712/712 [==============================] - 0s 84us/step - loss: 0.1263 - acc: 0.8343\n",
      "Epoch 70/150\n",
      "712/712 [==============================] - 0s 84us/step - loss: 0.1258 - acc: 0.8385\n",
      "Epoch 71/150\n",
      "712/712 [==============================] - 0s 83us/step - loss: 0.1257 - acc: 0.8357\n",
      "Epoch 72/150\n",
      "712/712 [==============================] - 0s 84us/step - loss: 0.1260 - acc: 0.8329\n",
      "Epoch 73/150\n",
      "712/712 [==============================] - 0s 87us/step - loss: 0.1257 - acc: 0.8329\n",
      "Epoch 74/150\n",
      "712/712 [==============================] - 0s 91us/step - loss: 0.1257 - acc: 0.8343\n",
      "Epoch 75/150\n",
      "712/712 [==============================] - 0s 90us/step - loss: 0.1255 - acc: 0.8329\n",
      "Epoch 76/150\n",
      "712/712 [==============================] - 0s 84us/step - loss: 0.1256 - acc: 0.8343\n",
      "Epoch 77/150\n",
      "712/712 [==============================] - 0s 84us/step - loss: 0.1254 - acc: 0.8329\n",
      "Epoch 78/150\n",
      "712/712 [==============================] - 0s 91us/step - loss: 0.1255 - acc: 0.8329\n",
      "Epoch 79/150\n",
      "712/712 [==============================] - 0s 89us/step - loss: 0.1255 - acc: 0.8301\n",
      "Epoch 80/150\n",
      "712/712 [==============================] - 0s 87us/step - loss: 0.1255 - acc: 0.8329\n",
      "Epoch 81/150\n",
      "712/712 [==============================] - 0s 83us/step - loss: 0.1255 - acc: 0.8343\n",
      "Epoch 82/150\n",
      "712/712 [==============================] - 0s 87us/step - loss: 0.1254 - acc: 0.8315\n",
      "Epoch 83/150\n",
      "712/712 [==============================] - 0s 86us/step - loss: 0.1252 - acc: 0.8343\n",
      "Epoch 84/150\n"
     ]
    },
    {
     "name": "stdout",
     "output_type": "stream",
     "text": [
      "712/712 [==============================] - 0s 80us/step - loss: 0.1253 - acc: 0.8329\n",
      "Epoch 85/150\n",
      "712/712 [==============================] - 0s 84us/step - loss: 0.1251 - acc: 0.8315\n",
      "Epoch 86/150\n",
      "712/712 [==============================] - 0s 86us/step - loss: 0.1252 - acc: 0.8258\n",
      "Epoch 87/150\n",
      "712/712 [==============================] - 0s 89us/step - loss: 0.1251 - acc: 0.8329\n",
      "Epoch 88/150\n",
      "712/712 [==============================] - 0s 83us/step - loss: 0.1251 - acc: 0.8357\n",
      "Epoch 89/150\n",
      "712/712 [==============================] - 0s 84us/step - loss: 0.1250 - acc: 0.8357\n",
      "Epoch 90/150\n",
      "712/712 [==============================] - 0s 84us/step - loss: 0.1251 - acc: 0.8371\n",
      "Epoch 91/150\n",
      "712/712 [==============================] - 0s 86us/step - loss: 0.1253 - acc: 0.8287\n",
      "Epoch 92/150\n",
      "712/712 [==============================] - 0s 82us/step - loss: 0.1250 - acc: 0.8329\n",
      "Epoch 93/150\n",
      "712/712 [==============================] - 0s 82us/step - loss: 0.1249 - acc: 0.8371\n",
      "Epoch 94/150\n",
      "712/712 [==============================] - 0s 86us/step - loss: 0.1248 - acc: 0.8385\n",
      "Epoch 95/150\n",
      "712/712 [==============================] - 0s 80us/step - loss: 0.1250 - acc: 0.8357\n",
      "Epoch 96/150\n",
      "712/712 [==============================] - 0s 86us/step - loss: 0.1247 - acc: 0.8371\n",
      "Epoch 97/150\n",
      "712/712 [==============================] - 0s 82us/step - loss: 0.1250 - acc: 0.8357\n",
      "Epoch 98/150\n",
      "712/712 [==============================] - 0s 84us/step - loss: 0.1248 - acc: 0.8301\n",
      "Epoch 99/150\n",
      "712/712 [==============================] - 0s 86us/step - loss: 0.1249 - acc: 0.8357\n",
      "Epoch 100/150\n",
      "712/712 [==============================] - 0s 83us/step - loss: 0.1247 - acc: 0.8371\n",
      "Epoch 101/150\n",
      "712/712 [==============================] - 0s 84us/step - loss: 0.1246 - acc: 0.8371\n",
      "Epoch 102/150\n",
      "712/712 [==============================] - 0s 84us/step - loss: 0.1249 - acc: 0.8343\n",
      "Epoch 103/150\n",
      "712/712 [==============================] - 0s 84us/step - loss: 0.1248 - acc: 0.8343\n",
      "Epoch 104/150\n",
      "712/712 [==============================] - 0s 82us/step - loss: 0.1249 - acc: 0.8329\n",
      "Epoch 105/150\n",
      "712/712 [==============================] - 0s 83us/step - loss: 0.1246 - acc: 0.8357\n",
      "Epoch 106/150\n",
      "712/712 [==============================] - 0s 86us/step - loss: 0.1244 - acc: 0.8371\n",
      "Epoch 107/150\n",
      "712/712 [==============================] - 0s 83us/step - loss: 0.1247 - acc: 0.8357\n",
      "Epoch 108/150\n",
      "712/712 [==============================] - 0s 83us/step - loss: 0.1245 - acc: 0.8357\n",
      "Epoch 109/150\n",
      "712/712 [==============================] - 0s 86us/step - loss: 0.1244 - acc: 0.8301\n",
      "Epoch 110/150\n",
      "712/712 [==============================] - 0s 83us/step - loss: 0.1245 - acc: 0.8315\n",
      "Epoch 111/150\n",
      "712/712 [==============================] - 0s 83us/step - loss: 0.1244 - acc: 0.8357\n",
      "Epoch 112/150\n",
      "712/712 [==============================] - 0s 86us/step - loss: 0.1242 - acc: 0.8371\n",
      "Epoch 113/150\n",
      "712/712 [==============================] - 0s 83us/step - loss: 0.1241 - acc: 0.8371\n",
      "Epoch 114/150\n",
      "712/712 [==============================] - 0s 83us/step - loss: 0.1241 - acc: 0.8371\n",
      "Epoch 115/150\n",
      "712/712 [==============================] - 0s 84us/step - loss: 0.1242 - acc: 0.8371\n",
      "Epoch 116/150\n",
      "712/712 [==============================] - 0s 84us/step - loss: 0.1241 - acc: 0.8357\n",
      "Epoch 117/150\n",
      "712/712 [==============================] - 0s 84us/step - loss: 0.1241 - acc: 0.8371\n",
      "Epoch 118/150\n",
      "712/712 [==============================] - 0s 82us/step - loss: 0.1240 - acc: 0.8357\n",
      "Epoch 119/150\n",
      "712/712 [==============================] - 0s 84us/step - loss: 0.1240 - acc: 0.8357\n",
      "Epoch 120/150\n",
      "712/712 [==============================] - 0s 82us/step - loss: 0.1238 - acc: 0.8385\n",
      "Epoch 121/150\n",
      "712/712 [==============================] - 0s 80us/step - loss: 0.1239 - acc: 0.8357\n",
      "Epoch 122/150\n",
      "712/712 [==============================] - 0s 82us/step - loss: 0.1237 - acc: 0.8385\n",
      "Epoch 123/150\n",
      "712/712 [==============================] - 0s 83us/step - loss: 0.1239 - acc: 0.8371\n",
      "Epoch 124/150\n",
      "712/712 [==============================] - 0s 83us/step - loss: 0.1235 - acc: 0.8371\n",
      "Epoch 125/150\n",
      "712/712 [==============================] - 0s 86us/step - loss: 0.1237 - acc: 0.8385\n",
      "Epoch 126/150\n",
      "712/712 [==============================] - 0s 80us/step - loss: 0.1236 - acc: 0.8357\n",
      "Epoch 127/150\n",
      "712/712 [==============================] - 0s 82us/step - loss: 0.1236 - acc: 0.8385\n",
      "Epoch 128/150\n",
      "712/712 [==============================] - 0s 86us/step - loss: 0.1235 - acc: 0.8357\n",
      "Epoch 129/150\n",
      "712/712 [==============================] - 0s 84us/step - loss: 0.1238 - acc: 0.8385\n",
      "Epoch 130/150\n",
      "712/712 [==============================] - 0s 82us/step - loss: 0.1234 - acc: 0.8343\n",
      "Epoch 131/150\n",
      "712/712 [==============================] - 0s 83us/step - loss: 0.1234 - acc: 0.8371\n",
      "Epoch 132/150\n",
      "712/712 [==============================] - 0s 80us/step - loss: 0.1233 - acc: 0.8371\n",
      "Epoch 133/150\n",
      "712/712 [==============================] - 0s 84us/step - loss: 0.1235 - acc: 0.8371\n",
      "Epoch 134/150\n",
      "712/712 [==============================] - 0s 84us/step - loss: 0.1233 - acc: 0.8357\n",
      "Epoch 135/150\n",
      "712/712 [==============================] - 0s 84us/step - loss: 0.1232 - acc: 0.8385\n",
      "Epoch 136/150\n",
      "712/712 [==============================] - 0s 82us/step - loss: 0.1232 - acc: 0.8399\n",
      "Epoch 137/150\n",
      "712/712 [==============================] - 0s 84us/step - loss: 0.1232 - acc: 0.8357\n",
      "Epoch 138/150\n",
      "712/712 [==============================] - 0s 87us/step - loss: 0.1231 - acc: 0.8385\n",
      "Epoch 139/150\n",
      "712/712 [==============================] - 0s 87us/step - loss: 0.1234 - acc: 0.8315\n",
      "Epoch 140/150\n",
      "712/712 [==============================] - 0s 86us/step - loss: 0.1232 - acc: 0.8385\n",
      "Epoch 141/150\n",
      "712/712 [==============================] - 0s 86us/step - loss: 0.1234 - acc: 0.8357\n",
      "Epoch 142/150\n",
      "712/712 [==============================] - 0s 89us/step - loss: 0.1230 - acc: 0.8357\n",
      "Epoch 143/150\n",
      "712/712 [==============================] - 0s 118us/step - loss: 0.1230 - acc: 0.8343\n",
      "Epoch 144/150\n",
      "712/712 [==============================] - 0s 83us/step - loss: 0.1234 - acc: 0.8385\n",
      "Epoch 145/150\n",
      "712/712 [==============================] - 0s 84us/step - loss: 0.1232 - acc: 0.8399\n",
      "Epoch 146/150\n",
      "712/712 [==============================] - 0s 84us/step - loss: 0.1231 - acc: 0.8343\n",
      "Epoch 147/150\n",
      "712/712 [==============================] - 0s 84us/step - loss: 0.1229 - acc: 0.8385\n",
      "Epoch 148/150\n",
      "712/712 [==============================] - 0s 83us/step - loss: 0.1230 - acc: 0.8399\n",
      "Epoch 149/150\n",
      "712/712 [==============================] - 0s 84us/step - loss: 0.1231 - acc: 0.8343\n",
      "Epoch 150/150\n",
      "712/712 [==============================] - 0s 84us/step - loss: 0.1228 - acc: 0.8357\n"
     ]
    },
    {
     "data": {
      "text/plain": [
       "<tensorflow.python.keras.callbacks.History at 0x165c7605048>"
      ]
     },
     "execution_count": 177,
     "metadata": {},
     "output_type": "execute_result"
    }
   ],
   "source": [
    "model.fit(X_train, y_train, batch_size=10, epochs=150)"
   ]
  },
  {
   "cell_type": "code",
   "execution_count": 178,
   "metadata": {},
   "outputs": [],
   "source": [
    "prediction = model.predict(X_test)"
   ]
  },
  {
   "cell_type": "code",
   "execution_count": 185,
   "metadata": {},
   "outputs": [],
   "source": [
    "from sklearn.metrics import accuracy_score, balanced_accuracy_score, classification_report, confusion_matrix"
   ]
  },
  {
   "cell_type": "code",
   "execution_count": 180,
   "metadata": {
    "scrolled": true
   },
   "outputs": [],
   "source": [
    "prediction = (prediction > 0.5)"
   ]
  },
  {
   "cell_type": "code",
   "execution_count": 181,
   "metadata": {},
   "outputs": [
    {
     "data": {
      "text/plain": [
       "0.8100558659217877"
      ]
     },
     "execution_count": 181,
     "metadata": {},
     "output_type": "execute_result"
    }
   ],
   "source": [
    "accuracy_score(y_test, prediction)"
   ]
  },
  {
   "cell_type": "code",
   "execution_count": 182,
   "metadata": {},
   "outputs": [
    {
     "data": {
      "text/plain": [
       "array([[99,  6],\n",
       "       [28, 46]], dtype=int64)"
      ]
     },
     "execution_count": 182,
     "metadata": {},
     "output_type": "execute_result"
    }
   ],
   "source": [
    "confusion_matrix(y_test, prediction)"
   ]
  },
  {
   "cell_type": "code",
   "execution_count": 184,
   "metadata": {},
   "outputs": [
    {
     "name": "stdout",
     "output_type": "stream",
     "text": [
      "              precision    recall  f1-score   support\n",
      "\n",
      "           0       0.78      0.94      0.85       105\n",
      "           1       0.88      0.62      0.73        74\n",
      "\n",
      "   micro avg       0.81      0.81      0.81       179\n",
      "   macro avg       0.83      0.78      0.79       179\n",
      "weighted avg       0.82      0.81      0.80       179\n",
      "\n"
     ]
    }
   ],
   "source": [
    "print(classification_report(y_test, prediction))"
   ]
  },
  {
   "cell_type": "code",
   "execution_count": 186,
   "metadata": {},
   "outputs": [
    {
     "data": {
      "text/plain": [
       "0.7822393822393823"
      ]
     },
     "execution_count": 186,
     "metadata": {},
     "output_type": "execute_result"
    }
   ],
   "source": [
    "balanced_accuracy_score(y_test, prediction)"
   ]
  },
  {
   "cell_type": "code",
   "execution_count": null,
   "metadata": {},
   "outputs": [],
   "source": []
  }
 ],
 "metadata": {
  "kernelspec": {
   "display_name": "Python 3",
   "language": "python",
   "name": "python3"
  },
  "language_info": {
   "codemirror_mode": {
    "name": "ipython",
    "version": 3
   },
   "file_extension": ".py",
   "mimetype": "text/x-python",
   "name": "python",
   "nbconvert_exporter": "python",
   "pygments_lexer": "ipython3",
   "version": "3.6.8"
  }
 },
 "nbformat": 4,
 "nbformat_minor": 2
}
