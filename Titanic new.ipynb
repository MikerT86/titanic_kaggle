{
 "cells": [
  {
   "cell_type": "code",
   "execution_count": 46,
   "metadata": {},
   "outputs": [],
   "source": [
    "import pandas as pd\n",
    "import numpy as np\n",
    "from sklearn.preprocessing import LabelEncoder\n",
    "import matplotlib as plt\n",
    "import seaborn as sns\n",
    "import tensorflow as tf\n",
    "from sklearn.datasets import california_housing\n",
    "from sklearn.cluster import KMeans\n",
    "import keras\n",
    "\n",
    "%matplotlib inline "
   ]
  },
  {
   "cell_type": "code",
   "execution_count": 47,
   "metadata": {},
   "outputs": [],
   "source": [
    "TRAIN_FILE = \"./train.csv\"\n",
    "TEST_FILE = \"./test.csv\""
   ]
  },
  {
   "cell_type": "code",
   "execution_count": 112,
   "metadata": {},
   "outputs": [],
   "source": [
    "df = pd.read_csv(TRAIN_FILE)\n",
    "df_test = pd.read_csv(TEST_FILE)"
   ]
  },
  {
   "cell_type": "code",
   "execution_count": 113,
   "metadata": {},
   "outputs": [
    {
     "data": {
      "text/html": [
       "<div>\n",
       "<style scoped>\n",
       "    .dataframe tbody tr th:only-of-type {\n",
       "        vertical-align: middle;\n",
       "    }\n",
       "\n",
       "    .dataframe tbody tr th {\n",
       "        vertical-align: top;\n",
       "    }\n",
       "\n",
       "    .dataframe thead th {\n",
       "        text-align: right;\n",
       "    }\n",
       "</style>\n",
       "<table border=\"1\" class=\"dataframe\">\n",
       "  <thead>\n",
       "    <tr style=\"text-align: right;\">\n",
       "      <th></th>\n",
       "      <th>PassengerId</th>\n",
       "      <th>Survived</th>\n",
       "      <th>Pclass</th>\n",
       "      <th>Name</th>\n",
       "      <th>Sex</th>\n",
       "      <th>Age</th>\n",
       "      <th>SibSp</th>\n",
       "      <th>Parch</th>\n",
       "      <th>Ticket</th>\n",
       "      <th>Fare</th>\n",
       "      <th>Cabin</th>\n",
       "      <th>Embarked</th>\n",
       "    </tr>\n",
       "  </thead>\n",
       "  <tbody>\n",
       "    <tr>\n",
       "      <th>0</th>\n",
       "      <td>1</td>\n",
       "      <td>0</td>\n",
       "      <td>3</td>\n",
       "      <td>Braund, Mr. Owen Harris</td>\n",
       "      <td>male</td>\n",
       "      <td>22.0</td>\n",
       "      <td>1</td>\n",
       "      <td>0</td>\n",
       "      <td>A/5 21171</td>\n",
       "      <td>7.2500</td>\n",
       "      <td>NaN</td>\n",
       "      <td>S</td>\n",
       "    </tr>\n",
       "    <tr>\n",
       "      <th>1</th>\n",
       "      <td>2</td>\n",
       "      <td>1</td>\n",
       "      <td>1</td>\n",
       "      <td>Cumings, Mrs. John Bradley (Florence Briggs Th...</td>\n",
       "      <td>female</td>\n",
       "      <td>38.0</td>\n",
       "      <td>1</td>\n",
       "      <td>0</td>\n",
       "      <td>PC 17599</td>\n",
       "      <td>71.2833</td>\n",
       "      <td>C85</td>\n",
       "      <td>C</td>\n",
       "    </tr>\n",
       "    <tr>\n",
       "      <th>2</th>\n",
       "      <td>3</td>\n",
       "      <td>1</td>\n",
       "      <td>3</td>\n",
       "      <td>Heikkinen, Miss. Laina</td>\n",
       "      <td>female</td>\n",
       "      <td>26.0</td>\n",
       "      <td>0</td>\n",
       "      <td>0</td>\n",
       "      <td>STON/O2. 3101282</td>\n",
       "      <td>7.9250</td>\n",
       "      <td>NaN</td>\n",
       "      <td>S</td>\n",
       "    </tr>\n",
       "    <tr>\n",
       "      <th>3</th>\n",
       "      <td>4</td>\n",
       "      <td>1</td>\n",
       "      <td>1</td>\n",
       "      <td>Futrelle, Mrs. Jacques Heath (Lily May Peel)</td>\n",
       "      <td>female</td>\n",
       "      <td>35.0</td>\n",
       "      <td>1</td>\n",
       "      <td>0</td>\n",
       "      <td>113803</td>\n",
       "      <td>53.1000</td>\n",
       "      <td>C123</td>\n",
       "      <td>S</td>\n",
       "    </tr>\n",
       "    <tr>\n",
       "      <th>4</th>\n",
       "      <td>5</td>\n",
       "      <td>0</td>\n",
       "      <td>3</td>\n",
       "      <td>Allen, Mr. William Henry</td>\n",
       "      <td>male</td>\n",
       "      <td>35.0</td>\n",
       "      <td>0</td>\n",
       "      <td>0</td>\n",
       "      <td>373450</td>\n",
       "      <td>8.0500</td>\n",
       "      <td>NaN</td>\n",
       "      <td>S</td>\n",
       "    </tr>\n",
       "  </tbody>\n",
       "</table>\n",
       "</div>"
      ],
      "text/plain": [
       "   PassengerId  Survived  Pclass  \\\n",
       "0            1         0       3   \n",
       "1            2         1       1   \n",
       "2            3         1       3   \n",
       "3            4         1       1   \n",
       "4            5         0       3   \n",
       "\n",
       "                                                Name     Sex   Age  SibSp  \\\n",
       "0                            Braund, Mr. Owen Harris    male  22.0      1   \n",
       "1  Cumings, Mrs. John Bradley (Florence Briggs Th...  female  38.0      1   \n",
       "2                             Heikkinen, Miss. Laina  female  26.0      0   \n",
       "3       Futrelle, Mrs. Jacques Heath (Lily May Peel)  female  35.0      1   \n",
       "4                           Allen, Mr. William Henry    male  35.0      0   \n",
       "\n",
       "   Parch            Ticket     Fare Cabin Embarked  \n",
       "0      0         A/5 21171   7.2500   NaN        S  \n",
       "1      0          PC 17599  71.2833   C85        C  \n",
       "2      0  STON/O2. 3101282   7.9250   NaN        S  \n",
       "3      0            113803  53.1000  C123        S  \n",
       "4      0            373450   8.0500   NaN        S  "
      ]
     },
     "execution_count": 113,
     "metadata": {},
     "output_type": "execute_result"
    }
   ],
   "source": [
    "df.head()"
   ]
  },
  {
   "cell_type": "code",
   "execution_count": 114,
   "metadata": {},
   "outputs": [],
   "source": [
    "df.drop(columns=['PassengerId', 'Name', 'Ticket', 'Cabin'], inplace=True, axis='columns')\n",
    "df_test.drop(columns=['PassengerId', 'Name', 'Ticket', 'Cabin'], inplace=True, axis='columns')"
   ]
  },
  {
   "cell_type": "code",
   "execution_count": 115,
   "metadata": {},
   "outputs": [
    {
     "name": "stdout",
     "output_type": "stream",
     "text": [
      "<class 'pandas.core.frame.DataFrame'>\n",
      "RangeIndex: 891 entries, 0 to 890\n",
      "Data columns (total 8 columns):\n",
      " #   Column    Non-Null Count  Dtype  \n",
      "---  ------    --------------  -----  \n",
      " 0   Survived  891 non-null    int64  \n",
      " 1   Pclass    891 non-null    int64  \n",
      " 2   Sex       891 non-null    object \n",
      " 3   Age       714 non-null    float64\n",
      " 4   SibSp     891 non-null    int64  \n",
      " 5   Parch     891 non-null    int64  \n",
      " 6   Fare      891 non-null    float64\n",
      " 7   Embarked  889 non-null    object \n",
      "dtypes: float64(2), int64(4), object(2)\n",
      "memory usage: 55.8+ KB\n"
     ]
    }
   ],
   "source": [
    "df.info()"
   ]
  },
  {
   "cell_type": "code",
   "execution_count": 116,
   "metadata": {},
   "outputs": [
    {
     "data": {
      "text/html": [
       "<div>\n",
       "<style scoped>\n",
       "    .dataframe tbody tr th:only-of-type {\n",
       "        vertical-align: middle;\n",
       "    }\n",
       "\n",
       "    .dataframe tbody tr th {\n",
       "        vertical-align: top;\n",
       "    }\n",
       "\n",
       "    .dataframe thead th {\n",
       "        text-align: right;\n",
       "    }\n",
       "</style>\n",
       "<table border=\"1\" class=\"dataframe\">\n",
       "  <thead>\n",
       "    <tr style=\"text-align: right;\">\n",
       "      <th></th>\n",
       "      <th>Survived</th>\n",
       "      <th>Pclass</th>\n",
       "      <th>Sex</th>\n",
       "      <th>Age</th>\n",
       "      <th>SibSp</th>\n",
       "      <th>Parch</th>\n",
       "      <th>Fare</th>\n",
       "      <th>Embarked</th>\n",
       "    </tr>\n",
       "  </thead>\n",
       "  <tbody>\n",
       "    <tr>\n",
       "      <th>5</th>\n",
       "      <td>0</td>\n",
       "      <td>3</td>\n",
       "      <td>male</td>\n",
       "      <td>NaN</td>\n",
       "      <td>0</td>\n",
       "      <td>0</td>\n",
       "      <td>8.4583</td>\n",
       "      <td>Q</td>\n",
       "    </tr>\n",
       "    <tr>\n",
       "      <th>17</th>\n",
       "      <td>1</td>\n",
       "      <td>2</td>\n",
       "      <td>male</td>\n",
       "      <td>NaN</td>\n",
       "      <td>0</td>\n",
       "      <td>0</td>\n",
       "      <td>13.0000</td>\n",
       "      <td>S</td>\n",
       "    </tr>\n",
       "    <tr>\n",
       "      <th>19</th>\n",
       "      <td>1</td>\n",
       "      <td>3</td>\n",
       "      <td>female</td>\n",
       "      <td>NaN</td>\n",
       "      <td>0</td>\n",
       "      <td>0</td>\n",
       "      <td>7.2250</td>\n",
       "      <td>C</td>\n",
       "    </tr>\n",
       "    <tr>\n",
       "      <th>26</th>\n",
       "      <td>0</td>\n",
       "      <td>3</td>\n",
       "      <td>male</td>\n",
       "      <td>NaN</td>\n",
       "      <td>0</td>\n",
       "      <td>0</td>\n",
       "      <td>7.2250</td>\n",
       "      <td>C</td>\n",
       "    </tr>\n",
       "    <tr>\n",
       "      <th>28</th>\n",
       "      <td>1</td>\n",
       "      <td>3</td>\n",
       "      <td>female</td>\n",
       "      <td>NaN</td>\n",
       "      <td>0</td>\n",
       "      <td>0</td>\n",
       "      <td>7.8792</td>\n",
       "      <td>Q</td>\n",
       "    </tr>\n",
       "    <tr>\n",
       "      <th>...</th>\n",
       "      <td>...</td>\n",
       "      <td>...</td>\n",
       "      <td>...</td>\n",
       "      <td>...</td>\n",
       "      <td>...</td>\n",
       "      <td>...</td>\n",
       "      <td>...</td>\n",
       "      <td>...</td>\n",
       "    </tr>\n",
       "    <tr>\n",
       "      <th>859</th>\n",
       "      <td>0</td>\n",
       "      <td>3</td>\n",
       "      <td>male</td>\n",
       "      <td>NaN</td>\n",
       "      <td>0</td>\n",
       "      <td>0</td>\n",
       "      <td>7.2292</td>\n",
       "      <td>C</td>\n",
       "    </tr>\n",
       "    <tr>\n",
       "      <th>863</th>\n",
       "      <td>0</td>\n",
       "      <td>3</td>\n",
       "      <td>female</td>\n",
       "      <td>NaN</td>\n",
       "      <td>8</td>\n",
       "      <td>2</td>\n",
       "      <td>69.5500</td>\n",
       "      <td>S</td>\n",
       "    </tr>\n",
       "    <tr>\n",
       "      <th>868</th>\n",
       "      <td>0</td>\n",
       "      <td>3</td>\n",
       "      <td>male</td>\n",
       "      <td>NaN</td>\n",
       "      <td>0</td>\n",
       "      <td>0</td>\n",
       "      <td>9.5000</td>\n",
       "      <td>S</td>\n",
       "    </tr>\n",
       "    <tr>\n",
       "      <th>878</th>\n",
       "      <td>0</td>\n",
       "      <td>3</td>\n",
       "      <td>male</td>\n",
       "      <td>NaN</td>\n",
       "      <td>0</td>\n",
       "      <td>0</td>\n",
       "      <td>7.8958</td>\n",
       "      <td>S</td>\n",
       "    </tr>\n",
       "    <tr>\n",
       "      <th>888</th>\n",
       "      <td>0</td>\n",
       "      <td>3</td>\n",
       "      <td>female</td>\n",
       "      <td>NaN</td>\n",
       "      <td>1</td>\n",
       "      <td>2</td>\n",
       "      <td>23.4500</td>\n",
       "      <td>S</td>\n",
       "    </tr>\n",
       "  </tbody>\n",
       "</table>\n",
       "<p>177 rows × 8 columns</p>\n",
       "</div>"
      ],
      "text/plain": [
       "     Survived  Pclass     Sex  Age  SibSp  Parch     Fare Embarked\n",
       "5           0       3    male  NaN      0      0   8.4583        Q\n",
       "17          1       2    male  NaN      0      0  13.0000        S\n",
       "19          1       3  female  NaN      0      0   7.2250        C\n",
       "26          0       3    male  NaN      0      0   7.2250        C\n",
       "28          1       3  female  NaN      0      0   7.8792        Q\n",
       "..        ...     ...     ...  ...    ...    ...      ...      ...\n",
       "859         0       3    male  NaN      0      0   7.2292        C\n",
       "863         0       3  female  NaN      8      2  69.5500        S\n",
       "868         0       3    male  NaN      0      0   9.5000        S\n",
       "878         0       3    male  NaN      0      0   7.8958        S\n",
       "888         0       3  female  NaN      1      2  23.4500        S\n",
       "\n",
       "[177 rows x 8 columns]"
      ]
     },
     "execution_count": 116,
     "metadata": {},
     "output_type": "execute_result"
    }
   ],
   "source": [
    "df[df.Age.isna()]"
   ]
  },
  {
   "cell_type": "code",
   "execution_count": 117,
   "metadata": {},
   "outputs": [],
   "source": [
    "sex_dummies = pd.get_dummies(df.Sex).drop(columns='female', axis='columns')\n",
    "sex_dummies_test = pd.get_dummies(df_test.Sex).drop(columns='female', axis='columns')"
   ]
  },
  {
   "cell_type": "code",
   "execution_count": 118,
   "metadata": {},
   "outputs": [],
   "source": [
    "df = df.join(sex_dummies)\n",
    "df.drop(columns='Sex', axis='columns', inplace=True)\n",
    "\n",
    "df_test = df_test.join(sex_dummies)\n",
    "df_test.drop(columns='Sex', axis='columns', inplace=True)"
   ]
  },
  {
   "cell_type": "code",
   "execution_count": 119,
   "metadata": {},
   "outputs": [],
   "source": [
    "df['Embarked'].fillna('S', inplace=True)\n",
    "df_test['Embarked'].fillna('S', inplace=True)"
   ]
  },
  {
   "cell_type": "code",
   "execution_count": 120,
   "metadata": {},
   "outputs": [],
   "source": [
    "def correct_age(age, p_class):\n",
    "    \n",
    "    if np.isnan(age):\n",
    "        age = 26\n",
    "        if p_class == 1:\n",
    "            age = 39\n",
    "        elif p_class == 2:\n",
    "            age = 30\n",
    "            \n",
    "    return age       \n",
    "\n",
    "df['Age'] = df.apply(lambda x: correct_age(x['Age'], x['Pclass']), axis=1)\n",
    "df_test['Age'] = df_test.apply(lambda x: correct_age(x['Age'], x['Pclass']), axis=1)"
   ]
  },
  {
   "cell_type": "code",
   "execution_count": 121,
   "metadata": {
    "scrolled": true
   },
   "outputs": [],
   "source": [
    "def convert_to_bool(x):\n",
    "    \n",
    "    rel = 0\n",
    "    if x != 0:\n",
    "        rel = 1\n",
    "        \n",
    "    return rel\n",
    "\n",
    "df['ralitives'] = (df.SibSp + df.Parch)\n",
    "df['ralitives'] = df['ralitives'].apply(convert_to_bool)\n",
    "\n",
    "df_test['ralitives'] = (df_test.SibSp + df_test.Parch)\n",
    "df_test['ralitives'] = df_test['ralitives'].apply(convert_to_bool)"
   ]
  },
  {
   "cell_type": "code",
   "execution_count": 122,
   "metadata": {},
   "outputs": [],
   "source": [
    "df.drop(columns=['SibSp', 'Parch'], axis='columns', inplace=True)\n",
    "\n",
    "df_test.drop(columns=['SibSp', 'Parch'], axis='columns', inplace=True)"
   ]
  },
  {
   "cell_type": "code",
   "execution_count": 123,
   "metadata": {},
   "outputs": [
    {
     "data": {
      "text/plain": [
       "<matplotlib.axes._subplots.AxesSubplot at 0x7f695937c390>"
      ]
     },
     "execution_count": 123,
     "metadata": {},
     "output_type": "execute_result"
    },
    {
     "data": {
      "image/png": "[encoded data removed]",
      "text/plain": [
       "<Figure size 432x288 with 1 Axes>"
      ]
     },
     "metadata": {
      "needs_background": "light"
     },
     "output_type": "display_data"
    }
   ],
   "source": [
    "sns.boxplot(x=df.Pclass, y=df.Age, data=df)"
   ]
  },
  {
   "cell_type": "code",
   "execution_count": 124,
   "metadata": {},
   "outputs": [
    {
     "name": "stdout",
     "output_type": "stream",
     "text": [
      "<class 'pandas.core.frame.DataFrame'>\n",
      "RangeIndex: 891 entries, 0 to 890\n",
      "Data columns (total 7 columns):\n",
      " #   Column     Non-Null Count  Dtype  \n",
      "---  ------     --------------  -----  \n",
      " 0   Survived   891 non-null    int64  \n",
      " 1   Pclass     891 non-null    int64  \n",
      " 2   Age        891 non-null    float64\n",
      " 3   Fare       891 non-null    float64\n",
      " 4   Embarked   891 non-null    object \n",
      " 5   male       891 non-null    uint8  \n",
      " 6   ralitives  891 non-null    int64  \n",
      "dtypes: float64(2), int64(3), object(1), uint8(1)\n",
      "memory usage: 42.8+ KB\n"
     ]
    }
   ],
   "source": [
    "df.info()"
   ]
  },
  {
   "cell_type": "code",
   "execution_count": 125,
   "metadata": {},
   "outputs": [],
   "source": [
    "embarked_dummies = pd.get_dummies(df.Embarked).drop(columns='Q', axis='columns')\n",
    "df = df.join(embarked_dummies)\n",
    "\n",
    "embarked_dummies_test = pd.get_dummies(df_test.Embarked).drop(columns='Q', axis='columns')\n",
    "df_test = df_test.join(embarked_dummies_test)"
   ]
  },
  {
   "cell_type": "code",
   "execution_count": 126,
   "metadata": {},
   "outputs": [],
   "source": [
    "df.drop(columns=['Embarked'], axis=0, inplace=True)\n",
    "\n",
    "df_test.drop(columns=['Embarked'], axis=0, inplace=True)"
   ]
  },
  {
   "cell_type": "code",
   "execution_count": 127,
   "metadata": {},
   "outputs": [],
   "source": [
    "pclass_dummies = pd.get_dummies(df['Pclass'], prefix='Class')\n",
    "pclass_dummies.drop(columns='Class_1', axis=0, inplace=True)\n",
    "df = df.join(pclass_dummies)\n",
    "df.drop(columns='Pclass', axis=0, inplace=True)\n",
    "\n",
    "pclass_dummies_test = pd.get_dummies(df_test['Pclass'], prefix='Class')\n",
    "pclass_dummies_test.drop(columns='Class_1', axis=0, inplace=True)\n",
    "df_test = df_test.join(pclass_dummies_test)\n",
    "df_test.drop(columns='Pclass', axis=0, inplace=True)"
   ]
  },
  {
   "cell_type": "code",
   "execution_count": 128,
   "metadata": {
    "scrolled": true
   },
   "outputs": [
    {
     "data": {
      "text/html": [
       "<div>\n",
       "<style scoped>\n",
       "    .dataframe tbody tr th:only-of-type {\n",
       "        vertical-align: middle;\n",
       "    }\n",
       "\n",
       "    .dataframe tbody tr th {\n",
       "        vertical-align: top;\n",
       "    }\n",
       "\n",
       "    .dataframe thead th {\n",
       "        text-align: right;\n",
       "    }\n",
       "</style>\n",
       "<table border=\"1\" class=\"dataframe\">\n",
       "  <thead>\n",
       "    <tr style=\"text-align: right;\">\n",
       "      <th></th>\n",
       "      <th>Survived</th>\n",
       "      <th>Age</th>\n",
       "      <th>Fare</th>\n",
       "      <th>male</th>\n",
       "      <th>ralitives</th>\n",
       "      <th>C</th>\n",
       "      <th>S</th>\n",
       "      <th>Class_2</th>\n",
       "      <th>Class_3</th>\n",
       "    </tr>\n",
       "  </thead>\n",
       "  <tbody>\n",
       "    <tr>\n",
       "      <th>Survived</th>\n",
       "      <td>1.000000</td>\n",
       "      <td>-0.052988</td>\n",
       "      <td>0.257307</td>\n",
       "      <td>-0.543351</td>\n",
       "      <td>0.203367</td>\n",
       "      <td>0.168240</td>\n",
       "      <td>-0.149683</td>\n",
       "      <td>0.093349</td>\n",
       "      <td>-0.322308</td>\n",
       "    </tr>\n",
       "    <tr>\n",
       "      <th>Age</th>\n",
       "      <td>-0.052988</td>\n",
       "      <td>1.000000</td>\n",
       "      <td>0.118649</td>\n",
       "      <td>0.081748</td>\n",
       "      <td>-0.174428</td>\n",
       "      <td>0.042895</td>\n",
       "      <td>0.001176</td>\n",
       "      <td>0.016778</td>\n",
       "      <td>-0.342267</td>\n",
       "    </tr>\n",
       "    <tr>\n",
       "      <th>Fare</th>\n",
       "      <td>0.257307</td>\n",
       "      <td>0.118649</td>\n",
       "      <td>1.000000</td>\n",
       "      <td>-0.182333</td>\n",
       "      <td>0.271832</td>\n",
       "      <td>0.269335</td>\n",
       "      <td>-0.162184</td>\n",
       "      <td>-0.118557</td>\n",
       "      <td>-0.413333</td>\n",
       "    </tr>\n",
       "    <tr>\n",
       "      <th>male</th>\n",
       "      <td>-0.543351</td>\n",
       "      <td>0.081748</td>\n",
       "      <td>-0.182333</td>\n",
       "      <td>1.000000</td>\n",
       "      <td>-0.303646</td>\n",
       "      <td>-0.082853</td>\n",
       "      <td>0.119224</td>\n",
       "      <td>-0.064746</td>\n",
       "      <td>0.137143</td>\n",
       "    </tr>\n",
       "    <tr>\n",
       "      <th>ralitives</th>\n",
       "      <td>0.203367</td>\n",
       "      <td>-0.174428</td>\n",
       "      <td>0.271832</td>\n",
       "      <td>-0.303646</td>\n",
       "      <td>1.000000</td>\n",
       "      <td>0.095298</td>\n",
       "      <td>-0.029074</td>\n",
       "      <td>0.039070</td>\n",
       "      <td>-0.129472</td>\n",
       "    </tr>\n",
       "    <tr>\n",
       "      <th>C</th>\n",
       "      <td>0.168240</td>\n",
       "      <td>0.042895</td>\n",
       "      <td>0.269335</td>\n",
       "      <td>-0.082853</td>\n",
       "      <td>0.095298</td>\n",
       "      <td>1.000000</td>\n",
       "      <td>-0.782742</td>\n",
       "      <td>-0.125416</td>\n",
       "      <td>-0.153329</td>\n",
       "    </tr>\n",
       "    <tr>\n",
       "      <th>S</th>\n",
       "      <td>-0.149683</td>\n",
       "      <td>0.001176</td>\n",
       "      <td>-0.162184</td>\n",
       "      <td>0.119224</td>\n",
       "      <td>-0.029074</td>\n",
       "      <td>-0.782742</td>\n",
       "      <td>1.000000</td>\n",
       "      <td>0.189980</td>\n",
       "      <td>-0.015104</td>\n",
       "    </tr>\n",
       "    <tr>\n",
       "      <th>Class_2</th>\n",
       "      <td>0.093349</td>\n",
       "      <td>0.016778</td>\n",
       "      <td>-0.118557</td>\n",
       "      <td>-0.064746</td>\n",
       "      <td>0.039070</td>\n",
       "      <td>-0.125416</td>\n",
       "      <td>0.189980</td>\n",
       "      <td>1.000000</td>\n",
       "      <td>-0.565210</td>\n",
       "    </tr>\n",
       "    <tr>\n",
       "      <th>Class_3</th>\n",
       "      <td>-0.322308</td>\n",
       "      <td>-0.342267</td>\n",
       "      <td>-0.413333</td>\n",
       "      <td>0.137143</td>\n",
       "      <td>-0.129472</td>\n",
       "      <td>-0.153329</td>\n",
       "      <td>-0.015104</td>\n",
       "      <td>-0.565210</td>\n",
       "      <td>1.000000</td>\n",
       "    </tr>\n",
       "  </tbody>\n",
       "</table>\n",
       "</div>"
      ],
      "text/plain": [
       "           Survived       Age      Fare      male  ralitives         C  \\\n",
       "Survived   1.000000 -0.052988  0.257307 -0.543351   0.203367  0.168240   \n",
       "Age       -0.052988  1.000000  0.118649  0.081748  -0.174428  0.042895   \n",
       "Fare       0.257307  0.118649  1.000000 -0.182333   0.271832  0.269335   \n",
       "male      -0.543351  0.081748 -0.182333  1.000000  -0.303646 -0.082853   \n",
       "ralitives  0.203367 -0.174428  0.271832 -0.303646   1.000000  0.095298   \n",
       "C          0.168240  0.042895  0.269335 -0.082853   0.095298  1.000000   \n",
       "S         -0.149683  0.001176 -0.162184  0.119224  -0.029074 -0.782742   \n",
       "Class_2    0.093349  0.016778 -0.118557 -0.064746   0.039070 -0.125416   \n",
       "Class_3   -0.322308 -0.342267 -0.413333  0.137143  -0.129472 -0.153329   \n",
       "\n",
       "                  S   Class_2   Class_3  \n",
       "Survived  -0.149683  0.093349 -0.322308  \n",
       "Age        0.001176  0.016778 -0.342267  \n",
       "Fare      -0.162184 -0.118557 -0.413333  \n",
       "male       0.119224 -0.064746  0.137143  \n",
       "ralitives -0.029074  0.039070 -0.129472  \n",
       "C         -0.782742 -0.125416 -0.153329  \n",
       "S          1.000000  0.189980 -0.015104  \n",
       "Class_2    0.189980  1.000000 -0.565210  \n",
       "Class_3   -0.015104 -0.565210  1.000000  "
      ]
     },
     "execution_count": 128,
     "metadata": {},
     "output_type": "execute_result"
    }
   ],
   "source": [
    "df.corr(method='pearson')"
   ]
  },
  {
   "cell_type": "code",
   "execution_count": 129,
   "metadata": {},
   "outputs": [
    {
     "data": {
      "text/html": [
       "<div>\n",
       "<style scoped>\n",
       "    .dataframe tbody tr th:only-of-type {\n",
       "        vertical-align: middle;\n",
       "    }\n",
       "\n",
       "    .dataframe tbody tr th {\n",
       "        vertical-align: top;\n",
       "    }\n",
       "\n",
       "    .dataframe thead th {\n",
       "        text-align: right;\n",
       "    }\n",
       "</style>\n",
       "<table border=\"1\" class=\"dataframe\">\n",
       "  <thead>\n",
       "    <tr style=\"text-align: right;\">\n",
       "      <th></th>\n",
       "      <th>Survived</th>\n",
       "      <th>Age</th>\n",
       "      <th>Fare</th>\n",
       "      <th>male</th>\n",
       "      <th>ralitives</th>\n",
       "      <th>C</th>\n",
       "      <th>S</th>\n",
       "      <th>Class_2</th>\n",
       "      <th>Class_3</th>\n",
       "    </tr>\n",
       "  </thead>\n",
       "  <tbody>\n",
       "    <tr>\n",
       "      <th>0</th>\n",
       "      <td>0</td>\n",
       "      <td>22.0</td>\n",
       "      <td>7.2500</td>\n",
       "      <td>1</td>\n",
       "      <td>1</td>\n",
       "      <td>0</td>\n",
       "      <td>1</td>\n",
       "      <td>0</td>\n",
       "      <td>1</td>\n",
       "    </tr>\n",
       "    <tr>\n",
       "      <th>1</th>\n",
       "      <td>1</td>\n",
       "      <td>38.0</td>\n",
       "      <td>71.2833</td>\n",
       "      <td>0</td>\n",
       "      <td>1</td>\n",
       "      <td>1</td>\n",
       "      <td>0</td>\n",
       "      <td>0</td>\n",
       "      <td>0</td>\n",
       "    </tr>\n",
       "    <tr>\n",
       "      <th>2</th>\n",
       "      <td>1</td>\n",
       "      <td>26.0</td>\n",
       "      <td>7.9250</td>\n",
       "      <td>0</td>\n",
       "      <td>0</td>\n",
       "      <td>0</td>\n",
       "      <td>1</td>\n",
       "      <td>0</td>\n",
       "      <td>1</td>\n",
       "    </tr>\n",
       "    <tr>\n",
       "      <th>3</th>\n",
       "      <td>1</td>\n",
       "      <td>35.0</td>\n",
       "      <td>53.1000</td>\n",
       "      <td>0</td>\n",
       "      <td>1</td>\n",
       "      <td>0</td>\n",
       "      <td>1</td>\n",
       "      <td>0</td>\n",
       "      <td>0</td>\n",
       "    </tr>\n",
       "    <tr>\n",
       "      <th>4</th>\n",
       "      <td>0</td>\n",
       "      <td>35.0</td>\n",
       "      <td>8.0500</td>\n",
       "      <td>1</td>\n",
       "      <td>0</td>\n",
       "      <td>0</td>\n",
       "      <td>1</td>\n",
       "      <td>0</td>\n",
       "      <td>1</td>\n",
       "    </tr>\n",
       "  </tbody>\n",
       "</table>\n",
       "</div>"
      ],
      "text/plain": [
       "   Survived   Age     Fare  male  ralitives  C  S  Class_2  Class_3\n",
       "0         0  22.0   7.2500     1          1  0  1        0        1\n",
       "1         1  38.0  71.2833     0          1  1  0        0        0\n",
       "2         1  26.0   7.9250     0          0  0  1        0        1\n",
       "3         1  35.0  53.1000     0          1  0  1        0        0\n",
       "4         0  35.0   8.0500     1          0  0  1        0        1"
      ]
     },
     "execution_count": 129,
     "metadata": {},
     "output_type": "execute_result"
    }
   ],
   "source": [
    "df.head()"
   ]
  },
  {
   "cell_type": "code",
   "execution_count": 130,
   "metadata": {},
   "outputs": [],
   "source": [
    "from sklearn.model_selection import train_test_split\n",
    "from sklearn.tree import DecisionTreeClassifier\n",
    "from sklearn.model_selection import GridSearchCV\n",
    "from sklearn.ensemble import RandomForestClassifier\n",
    "from sklearn.neighbors import KNeighborsClassifier"
   ]
  },
  {
   "cell_type": "code",
   "execution_count": 107,
   "metadata": {},
   "outputs": [],
   "source": [
    "DT = DecisionTreeClassifier()"
   ]
  },
  {
   "cell_type": "code",
   "execution_count": 141,
   "metadata": {},
   "outputs": [],
   "source": [
    "from sklearn.preprocessing import StandardScaler\n",
    "\n",
    "y_train = df['Survived']\n",
    "X_train = df.drop(columns='Survived', axis=0)\n",
    "\n",
    "#y_test = df_test['Survived']\n",
    "#X_test = df_test\n",
    "\n",
    "scaler = StandardScaler()\n",
    "X_train = scaler.fit_transform(X_train)\n",
    "#X_test = scaler.fit_transform(X_test)\n",
    "\n",
    "X_train, X_test, y_train, y_test = train_test_split(X, y, test_size=0.33, random_state=42)"
   ]
  },
  {
   "cell_type": "code",
   "execution_count": 142,
   "metadata": {},
   "outputs": [
    {
     "data": {
      "text/plain": [
       "DecisionTreeClassifier()"
      ]
     },
     "execution_count": 142,
     "metadata": {},
     "output_type": "execute_result"
    }
   ],
   "source": [
    "DT.fit(X_train, y_train)"
   ]
  },
  {
   "cell_type": "code",
   "execution_count": 143,
   "metadata": {},
   "outputs": [],
   "source": [
    "DT_prediction = DT.predict(X_test)"
   ]
  },
  {
   "cell_type": "code",
   "execution_count": 71,
   "metadata": {},
   "outputs": [],
   "source": [
    "from sklearn.metrics import accuracy_score, balanced_accuracy_score"
   ]
  },
  {
   "cell_type": "code",
   "execution_count": 144,
   "metadata": {},
   "outputs": [
    {
     "data": {
      "text/plain": [
       "0.7661016949152543"
      ]
     },
     "execution_count": 144,
     "metadata": {},
     "output_type": "execute_result"
    }
   ],
   "source": [
    "accuracy_score(y_test, DT_prediction)"
   ]
  },
  {
   "cell_type": "code",
   "execution_count": 145,
   "metadata": {},
   "outputs": [
    {
     "name": "stdout",
     "output_type": "stream",
     "text": [
      "Accuracy Score:  0.7932203389830509\n",
      "Accuracy: 0.76 (+/- 0.04)\n"
     ]
    }
   ],
   "source": [
    "knn = KNeighborsClassifier(n_neighbors = 10, leaf_size=10)\n",
    "knn.fit(X_train, y_train)\n",
    "KNN_prediction = knn.predict(X_test)\n",
    "knn_scores = cross_val_score(knn, X_test, y_test, cv=5)\n",
    "print(\"Accuracy Score: \", accuracy_score(y_test, KNN_prediction))\n",
    "print(\"Accuracy: %0.2f (+/- %0.2f)\" % (knn_scores.mean(), knn_scores.std() * 2))"
   ]
  },
  {
   "cell_type": "code",
   "execution_count": 146,
   "metadata": {
    "scrolled": true
   },
   "outputs": [
    {
     "name": "stdout",
     "output_type": "stream",
     "text": [
      "Fitting 10 folds for each of 294 candidates, totalling 2940 fits\n"
     ]
    },
    {
     "name": "stderr",
     "output_type": "stream",
     "text": [
      "[Parallel(n_jobs=-1)]: Using backend LokyBackend with 12 concurrent workers.\n",
      "[Parallel(n_jobs=-1)]: Done  26 tasks      | elapsed:    1.1s\n",
      "[Parallel(n_jobs=-1)]: Done 468 tasks      | elapsed:    6.3s\n",
      "[Parallel(n_jobs=-1)]: Done 1068 tasks      | elapsed:   13.6s\n",
      "[Parallel(n_jobs=-1)]: Done 1856 tasks      | elapsed:   25.7s\n",
      "[Parallel(n_jobs=-1)]: Done 2917 out of 2940 | elapsed:   43.6s remaining:    0.3s\n"
     ]
    },
    {
     "name": "stdout",
     "output_type": "stream",
     "text": [
      "0.8496980754417827\n",
      "RandomForestClassifier(max_depth=6, n_estimators=20, random_state=15)\n"
     ]
    },
    {
     "name": "stderr",
     "output_type": "stream",
     "text": [
      "[Parallel(n_jobs=-1)]: Done 2940 out of 2940 | elapsed:   44.1s finished\n"
     ]
    }
   ],
   "source": [
    "n_estimators = [6, 10, 20, 50, 100, 120, 160]\n",
    "#n_neighbors = [1, 3, 5, 10]\n",
    "max_depth = [2, 6, 12, 18, 24, 50, 100]\n",
    "random_state = [0, 2, 15, 20, 32, 42]\n",
    "#leaf_size = [0, 10, 20 , 30, 50, 100]\n",
    "hyperparams = {'n_estimators': n_estimators, 'max_depth': max_depth, 'random_state': random_state}\n",
    "#hyperparams = {'n_neighbors': n_neighbors, 'leaf_size': leaf_size}\n",
    "\n",
    "gd = GridSearchCV(estimator = RandomForestClassifier(), param_grid = hyperparams, verbose=True, cv=10, scoring = \"roc_auc\", n_jobs=-1)\n",
    "gd.fit(X_train, y_train)\n",
    "print(gd.best_score_)\n",
    "print(gd.best_estimator_)"
   ]
  },
  {
   "cell_type": "code",
   "execution_count": 135,
   "metadata": {},
   "outputs": [],
   "source": [
    "df_test.fillna(df.Fare.mean(), inplace=True)"
   ]
  },
  {
   "cell_type": "code",
   "execution_count": 136,
   "metadata": {},
   "outputs": [
    {
     "name": "stdout",
     "output_type": "stream",
     "text": [
      "<class 'pandas.core.frame.DataFrame'>\n",
      "RangeIndex: 418 entries, 0 to 417\n",
      "Data columns (total 8 columns):\n",
      " #   Column     Non-Null Count  Dtype  \n",
      "---  ------     --------------  -----  \n",
      " 0   Age        418 non-null    float64\n",
      " 1   Fare       418 non-null    float64\n",
      " 2   male       418 non-null    uint8  \n",
      " 3   ralitives  418 non-null    int64  \n",
      " 4   C          418 non-null    uint8  \n",
      " 5   S          418 non-null    uint8  \n",
      " 6   Class_2    418 non-null    uint8  \n",
      " 7   Class_3    418 non-null    uint8  \n",
      "dtypes: float64(2), int64(1), uint8(5)\n",
      "memory usage: 12.0 KB\n"
     ]
    }
   ],
   "source": [
    "df_test.info()"
   ]
  },
  {
   "cell_type": "code",
   "execution_count": 147,
   "metadata": {},
   "outputs": [
    {
     "name": "stdout",
     "output_type": "stream",
     "text": [
      "Accuracy Score:  0.7796610169491526\n",
      "Cross-Validation score:  [0.84745763 0.77966102 0.81355932 0.84745763 0.88135593]\n",
      "Accuracy: 0.83 (+/- 0.07)\n"
     ]
    }
   ],
   "source": [
    "RFC = RandomForestClassifier(max_depth=6, n_estimators=20, random_state=15)\n",
    "RFC.fit(X_train, y_train)\n",
    "\n",
    "RFC_prediction = RFC.predict(X_test)\n",
    "print(\"Accuracy Score: \", accuracy_score(y_test, RFC_prediction))\n",
    "from sklearn.model_selection import cross_val_score\n",
    "RFC_scores = cross_val_score(RFC, X_test, y_test, cv=5)\n",
    "print(\"Cross-Validation score: \", RFC_scores)\n",
    "print(\"Accuracy: %0.2f (+/- %0.2f)\" % (RFC_scores.mean(), RFC_scores.std() * 2))"
   ]
  },
  {
   "cell_type": "code",
   "execution_count": 77,
   "metadata": {},
   "outputs": [
    {
     "data": {
      "text/plain": [
       "(596, 8)"
      ]
     },
     "execution_count": 77,
     "metadata": {},
     "output_type": "execute_result"
    }
   ],
   "source": [
    "X_train.shape"
   ]
  },
  {
   "cell_type": "code",
   "execution_count": 148,
   "metadata": {},
   "outputs": [],
   "source": [
    "model = keras.Sequential([\n",
    "    keras.layers.Dense(8, input_dim=8, activation='relu'),\n",
    "    keras.layers.Dense(32, activation='relu'),\n",
    "    keras.layers.Dense(16, activation='relu'),\n",
    "    keras.layers.Dense(8, activation='relu'),\n",
    "    keras.layers.Dense(1, activation='sigmoid')\n",
    "])\n",
    "\n",
    "model.compile(optimizer='adam',\n",
    "              loss='binary_crossentropy',\n",
    "              metrics=['accuracy'])"
   ]
  },
  {
   "cell_type": "code",
   "execution_count": 149,
   "metadata": {},
   "outputs": [
    {
     "name": "stdout",
     "output_type": "stream",
     "text": [
      "Epoch 1/70\n",
      "596/596 [==============================] - 1s 1ms/step - loss: 0.6781 - accuracy: 0.6040\n",
      "Epoch 2/70\n",
      "596/596 [==============================] - 0s 131us/step - loss: 0.6464 - accuracy: 0.6275\n",
      "Epoch 3/70\n",
      "596/596 [==============================] - 0s 130us/step - loss: 0.6134 - accuracy: 0.6275\n",
      "Epoch 4/70\n",
      "596/596 [==============================] - 0s 121us/step - loss: 0.5861 - accuracy: 0.6275\n",
      "Epoch 5/70\n",
      "596/596 [==============================] - 0s 150us/step - loss: 0.5646 - accuracy: 0.6275\n",
      "Epoch 6/70\n",
      "596/596 [==============================] - 0s 132us/step - loss: 0.5475 - accuracy: 0.6275\n",
      "Epoch 7/70\n",
      "596/596 [==============================] - 0s 127us/step - loss: 0.5385 - accuracy: 0.6477\n",
      "Epoch 8/70\n",
      "596/596 [==============================] - 0s 131us/step - loss: 0.5313 - accuracy: 0.7886\n",
      "Epoch 9/70\n",
      "596/596 [==============================] - 0s 150us/step - loss: 0.5240 - accuracy: 0.8171\n",
      "Epoch 10/70\n",
      "596/596 [==============================] - 0s 164us/step - loss: 0.5173 - accuracy: 0.8171\n",
      "Epoch 11/70\n",
      "596/596 [==============================] - 0s 101us/step - loss: 0.5108 - accuracy: 0.8121\n",
      "Epoch 12/70\n",
      "596/596 [==============================] - 0s 59us/step - loss: 0.5040 - accuracy: 0.8121\n",
      "Epoch 13/70\n",
      "596/596 [==============================] - 0s 160us/step - loss: 0.4953 - accuracy: 0.8221\n",
      "Epoch 14/70\n",
      "596/596 [==============================] - 0s 108us/step - loss: 0.4860 - accuracy: 0.8205\n",
      "Epoch 15/70\n",
      "596/596 [==============================] - 0s 87us/step - loss: 0.4778 - accuracy: 0.8154\n",
      "Epoch 16/70\n",
      "596/596 [==============================] - 0s 122us/step - loss: 0.4679 - accuracy: 0.8121\n",
      "Epoch 17/70\n",
      "596/596 [==============================] - 0s 137us/step - loss: 0.4559 - accuracy: 0.8205\n",
      "Epoch 18/70\n",
      "596/596 [==============================] - 0s 149us/step - loss: 0.4478 - accuracy: 0.8171\n",
      "Epoch 19/70\n",
      "596/596 [==============================] - 0s 137us/step - loss: 0.4400 - accuracy: 0.8255\n",
      "Epoch 20/70\n",
      "596/596 [==============================] - 0s 213us/step - loss: 0.4326 - accuracy: 0.8255\n",
      "Epoch 21/70\n",
      "596/596 [==============================] - 0s 191us/step - loss: 0.4265 - accuracy: 0.8238\n",
      "Epoch 22/70\n",
      "596/596 [==============================] - 0s 176us/step - loss: 0.4201 - accuracy: 0.8272\n",
      "Epoch 23/70\n",
      "596/596 [==============================] - 0s 118us/step - loss: 0.4173 - accuracy: 0.8272\n",
      "Epoch 24/70\n",
      "596/596 [==============================] - 0s 148us/step - loss: 0.4139 - accuracy: 0.8238\n",
      "Epoch 25/70\n",
      "596/596 [==============================] - 0s 170us/step - loss: 0.4128 - accuracy: 0.8238\n",
      "Epoch 26/70\n",
      "596/596 [==============================] - 0s 131us/step - loss: 0.4082 - accuracy: 0.8289\n",
      "Epoch 27/70\n",
      "596/596 [==============================] - 0s 221us/step - loss: 0.4067 - accuracy: 0.8305\n",
      "Epoch 28/70\n",
      "596/596 [==============================] - 0s 235us/step - loss: 0.4049 - accuracy: 0.8305\n",
      "Epoch 29/70\n",
      "596/596 [==============================] - 0s 355us/step - loss: 0.4026 - accuracy: 0.8305\n",
      "Epoch 30/70\n",
      "596/596 [==============================] - 0s 146us/step - loss: 0.4026 - accuracy: 0.8322\n",
      "Epoch 31/70\n",
      "596/596 [==============================] - 0s 99us/step - loss: 0.4008 - accuracy: 0.8356\n",
      "Epoch 32/70\n",
      "596/596 [==============================] - 0s 102us/step - loss: 0.4009 - accuracy: 0.8305\n",
      "Epoch 33/70\n",
      "596/596 [==============================] - 0s 100us/step - loss: 0.3991 - accuracy: 0.8289\n",
      "Epoch 34/70\n",
      "596/596 [==============================] - 0s 171us/step - loss: 0.4011 - accuracy: 0.8322\n",
      "Epoch 35/70\n",
      "596/596 [==============================] - 0s 139us/step - loss: 0.3970 - accuracy: 0.8339\n",
      "Epoch 36/70\n",
      "596/596 [==============================] - 0s 154us/step - loss: 0.3948 - accuracy: 0.8322\n",
      "Epoch 37/70\n",
      "596/596 [==============================] - 0s 96us/step - loss: 0.3937 - accuracy: 0.8389\n",
      "Epoch 38/70\n",
      "596/596 [==============================] - 0s 114us/step - loss: 0.3936 - accuracy: 0.8305\n",
      "Epoch 39/70\n",
      "596/596 [==============================] - 0s 142us/step - loss: 0.3922 - accuracy: 0.8389\n",
      "Epoch 40/70\n",
      "596/596 [==============================] - 0s 126us/step - loss: 0.3958 - accuracy: 0.8289\n",
      "Epoch 41/70\n",
      "596/596 [==============================] - 0s 100us/step - loss: 0.3964 - accuracy: 0.8389\n",
      "Epoch 42/70\n",
      "596/596 [==============================] - 0s 121us/step - loss: 0.3917 - accuracy: 0.8406\n",
      "Epoch 43/70\n",
      "596/596 [==============================] - 0s 215us/step - loss: 0.3909 - accuracy: 0.8372\n",
      "Epoch 44/70\n",
      "596/596 [==============================] - 0s 209us/step - loss: 0.3894 - accuracy: 0.8406\n",
      "Epoch 45/70\n",
      "596/596 [==============================] - 0s 171us/step - loss: 0.3878 - accuracy: 0.8389\n",
      "Epoch 46/70\n",
      "596/596 [==============================] - 0s 171us/step - loss: 0.3841 - accuracy: 0.8423\n",
      "Epoch 47/70\n",
      "596/596 [==============================] - 0s 130us/step - loss: 0.3863 - accuracy: 0.8423\n",
      "Epoch 48/70\n",
      "596/596 [==============================] - 0s 157us/step - loss: 0.3883 - accuracy: 0.8389\n",
      "Epoch 49/70\n",
      "596/596 [==============================] - 0s 114us/step - loss: 0.3882 - accuracy: 0.8389\n",
      "Epoch 50/70\n",
      "596/596 [==============================] - 0s 114us/step - loss: 0.3844 - accuracy: 0.8423\n",
      "Epoch 51/70\n",
      "596/596 [==============================] - 0s 85us/step - loss: 0.3838 - accuracy: 0.8423\n",
      "Epoch 52/70\n",
      "596/596 [==============================] - 0s 87us/step - loss: 0.3828 - accuracy: 0.8406\n",
      "Epoch 53/70\n",
      "596/596 [==============================] - 0s 156us/step - loss: 0.3818 - accuracy: 0.8372\n",
      "Epoch 54/70\n",
      "596/596 [==============================] - 0s 122us/step - loss: 0.3835 - accuracy: 0.8372\n",
      "Epoch 55/70\n",
      "596/596 [==============================] - 0s 97us/step - loss: 0.3799 - accuracy: 0.8389\n",
      "Epoch 56/70\n",
      "596/596 [==============================] - 0s 134us/step - loss: 0.3813 - accuracy: 0.8423\n",
      "Epoch 57/70\n",
      "596/596 [==============================] - 0s 100us/step - loss: 0.3820 - accuracy: 0.8473\n",
      "Epoch 58/70\n",
      "596/596 [==============================] - 0s 107us/step - loss: 0.3799 - accuracy: 0.8389\n",
      "Epoch 59/70\n",
      "596/596 [==============================] - 0s 107us/step - loss: 0.3793 - accuracy: 0.8423\n",
      "Epoch 60/70\n",
      "596/596 [==============================] - 0s 105us/step - loss: 0.3772 - accuracy: 0.8372\n",
      "Epoch 61/70\n",
      "596/596 [==============================] - 0s 189us/step - loss: 0.3758 - accuracy: 0.8406\n",
      "Epoch 62/70\n",
      "596/596 [==============================] - 0s 152us/step - loss: 0.3789 - accuracy: 0.8423\n",
      "Epoch 63/70\n",
      "596/596 [==============================] - 0s 154us/step - loss: 0.3767 - accuracy: 0.8372\n",
      "Epoch 64/70\n",
      "596/596 [==============================] - 0s 117us/step - loss: 0.3768 - accuracy: 0.8372\n",
      "Epoch 65/70\n",
      "596/596 [==============================] - 0s 142us/step - loss: 0.3750 - accuracy: 0.8423\n",
      "Epoch 66/70\n",
      "596/596 [==============================] - 0s 128us/step - loss: 0.3738 - accuracy: 0.8339\n",
      "Epoch 67/70\n",
      "596/596 [==============================] - 0s 157us/step - loss: 0.3743 - accuracy: 0.8440\n",
      "Epoch 68/70\n",
      "596/596 [==============================] - 0s 89us/step - loss: 0.3733 - accuracy: 0.8406\n",
      "Epoch 69/70\n",
      "596/596 [==============================] - 0s 136us/step - loss: 0.3718 - accuracy: 0.8339\n",
      "Epoch 70/70\n",
      "596/596 [==============================] - 0s 90us/step - loss: 0.3721 - accuracy: 0.8423\n"
     ]
    },
    {
     "data": {
      "text/plain": [
       "<keras.callbacks.callbacks.History at 0x7f6958d66510>"
      ]
     },
     "execution_count": 149,
     "metadata": {},
     "output_type": "execute_result"
    }
   ],
   "source": [
    "model.fit(X_train, y_train, epochs=70)"
   ]
  },
  {
   "cell_type": "code",
   "execution_count": 150,
   "metadata": {},
   "outputs": [
    {
     "name": "stdout",
     "output_type": "stream",
     "text": [
      "295/295 [==============================] - 0s 342us/step\n",
      "\n",
      "Точность на проверочных данных: 0.7898305058479309\n"
     ]
    }
   ],
   "source": [
    "test_loss, test_acc = model.evaluate(X_test,  y_test)\n",
    "print('\\nТочность на проверочных данных:', test_acc)"
   ]
  },
  {
   "cell_type": "code",
   "execution_count": 140,
   "metadata": {},
   "outputs": [],
   "source": [
    "# temp = pd.DataFrame(pd.read_csv(\"test.csv\")['PassengerId'])\n",
    "# temp['Survived'] = RFC_prediction\n",
    "# temp.to_csv(\"submission.csv\", index = False)"
   ]
  },
  {
   "cell_type": "code",
   "execution_count": null,
   "metadata": {},
   "outputs": [],
   "source": []
  }
 ],
 "metadata": {
  "kernelspec": {
   "display_name": "Python 3",
   "language": "python",
   "name": "python3"
  },
  "language_info": {
   "codemirror_mode": {
    "name": "ipython",
    "version": 3
   },
   "file_extension": ".py",
   "mimetype": "text/x-python",
   "name": "python",
   "nbconvert_exporter": "python",
   "pygments_lexer": "ipython3",
   "version": "3.7.7"
  }
 },
 "nbformat": 4,
 "nbformat_minor": 4
}
